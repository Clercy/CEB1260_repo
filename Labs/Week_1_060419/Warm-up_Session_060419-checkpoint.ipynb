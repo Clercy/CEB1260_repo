{
 "cells": [
  {
   "cell_type": "markdown",
   "metadata": {},
   "source": [
    "Python Warm Up"
   ]
  },
  {
   "cell_type": "markdown",
   "metadata": {},
   "source": [
    "##### 1. create a list (list_a) with numbers from 1 to 10"
   ]
  },
  {
   "cell_type": "code",
   "execution_count": 2,
   "metadata": {},
   "outputs": [
    {
     "name": "stdout",
     "output_type": "stream",
     "text": [
      "[1, 2, 3, 4, 5, 6, 7, 8, 9, 10]\n"
     ]
    }
   ],
   "source": [
    "list_a = [1,2,3,4,5,6,7,8,9,10]\n",
    "print(list_a)"
   ]
  },
  {
   "cell_type": "markdown",
   "metadata": {},
   "source": [
    "#####  2. import the numpy library and calculate the mean of the first 5 items from the list_a"
   ]
  },
  {
   "cell_type": "code",
   "execution_count": 5,
   "metadata": {},
   "outputs": [
    {
     "name": "stdout",
     "output_type": "stream",
     "text": [
      "3.0\n"
     ]
    }
   ],
   "source": [
    "# [1] Ref.: https://stackoverflow.com/questions/9039961/finding-the-average-of-a-list\n",
    "\n",
    "import numpy as np\n",
    "print (np.mean(list_a[:5]))"
   ]
  },
  {
   "cell_type": "markdown",
   "metadata": {},
   "source": [
    "#### 3. create a list (list_b) with 10 random number in a range from 1 to 10"
   ]
  },
  {
   "cell_type": "code",
   "execution_count": 8,
   "metadata": {},
   "outputs": [
    {
     "name": "stdout",
     "output_type": "stream",
     "text": [
      "[2, 9, 8, 5, 3, 6, 7, 7, 1, 8]\n"
     ]
    }
   ],
   "source": [
    "# [2] Ref.: https://stackoverflow.com/questions/16655089/python-random-numbers-into-a-list\n",
    "\n",
    "import random\n",
    "list_b = [random.randrange(1, 10, 1) for _ in range(10)]\n",
    "print(list_b)"
   ]
  },
  {
   "cell_type": "markdown",
   "metadata": {},
   "source": [
    "#### 4. identify how many elements are in the intersection between list_a and list_b"
   ]
  },
  {
   "cell_type": "code",
   "execution_count": 17,
   "metadata": {},
   "outputs": [
    {
     "name": "stdout",
     "output_type": "stream",
     "text": [
      "[1, 2, 3, 5, 6, 7, 8, 9]\n"
     ]
    }
   ],
   "source": [
    "# [3] Ref.: https://stackoverflow.com/questions/3697432/how-to-find-list-intersection\n",
    "print(list(set(list_a) & set(list_b)))\n"
   ]
  },
  {
   "cell_type": "markdown",
   "metadata": {},
   "source": [
    "#### 5. create a function that defines if a number is 'even' or 'odd'"
   ]
  },
  {
   "cell_type": "code",
   "execution_count": 15,
   "metadata": {},
   "outputs": [
    {
     "name": "stdout",
     "output_type": "stream",
     "text": [
      "Please enter a number: 5\n",
      "You entered: 5\n",
      "odd\n"
     ]
    }
   ],
   "source": [
    "# [4] Ref.: https://stackoverflow.com/questions/70797/user-input-and-command-line-arguments\n",
    "# [5] Ref.: https://stackoverflow.com/questions/42059748/python-how-to-prompt-user-to-enter-numbers-to-an-empty-list\n",
    "num = int(input(\"Please enter a number: \"))\n",
    "print(\"You entered: \" + str(num))\n",
    "\n",
    "# [6] Ref.: https://stackoverflow.com/questions/21837208/check-if-a-number-is-odd-or-even-in-python#21837247\n",
    "if num % 2 == 0:\n",
    "    pass # Even \n",
    "    print(\"even\")\n",
    "else:\n",
    "    pass # Odd\n",
    "    print(\"odd\")"
   ]
  },
  {
   "cell_type": "markdown",
   "metadata": {},
   "source": [
    "#### 6. create a list (list_c) that merges list_a and list_b"
   ]
  },
  {
   "cell_type": "code",
   "execution_count": 18,
   "metadata": {},
   "outputs": [
    {
     "name": "stdout",
     "output_type": "stream",
     "text": [
      "[1, 2, 3, 4, 5, 6, 7, 8, 9, 10, 2, 9, 8, 5, 3, 6, 7, 7, 1, 8]\n"
     ]
    }
   ],
   "source": [
    "list_c = list_a + list_b\n",
    "print(list_c)"
   ]
  },
  {
   "cell_type": "markdown",
   "metadata": {},
   "source": [
    "#### 7. organize the list_c into a dictionary according to whether the number is 'even' or 'odd'"
   ]
  },
  {
   "cell_type": "code",
   "execution_count": null,
   "metadata": {},
   "outputs": [],
   "source": []
  },
  {
   "cell_type": "markdown",
   "metadata": {},
   "source": [
    "#### 8. how many numbers are even and how many are odd"
   ]
  },
  {
   "cell_type": "code",
   "execution_count": null,
   "metadata": {},
   "outputs": [],
   "source": []
  }
 ],
 "metadata": {
  "kernelspec": {
   "display_name": "Python 3",
   "language": "python",
   "name": "python3"
  },
  "language_info": {
   "codemirror_mode": {
    "name": "ipython",
    "version": 3
   },
   "file_extension": ".py",
   "mimetype": "text/x-python",
   "name": "python",
   "nbconvert_exporter": "python",
   "pygments_lexer": "ipython3",
   "version": "3.6.5"
  }
 },
 "nbformat": 4,
 "nbformat_minor": 2
}
