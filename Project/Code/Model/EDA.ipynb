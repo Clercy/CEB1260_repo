{
 "cells": [
  {
   "cell_type": "markdown",
   "metadata": {},
   "source": [
    "# Exploratory Data Analysis"
   ]
  },
  {
   "cell_type": "code",
   "execution_count": 84,
   "metadata": {},
   "outputs": [],
   "source": [
    "# import the library\n",
    "%matplotlib inline\n",
    "\n",
    "import pandas as pd\n",
    "import numpy as np\n",
    "import scipy\n",
    "import matplotlib.pyplot as plt\n",
    "\n",
    "# the more advanced python visualization library\n",
    "import seaborn as sns\n",
    "\n",
    "# apply style to all the charts\n",
    "sns.set_style('whitegrid')\n",
    "\n",
    "# convert scientific notation to decimals\n",
    "pd.set_option('display.float_format', lambda x: '%.2f' % x)"
   ]
  },
  {
   "cell_type": "code",
   "execution_count": 86,
   "metadata": {},
   "outputs": [
    {
     "name": "stdout",
     "output_type": "stream",
     "text": [
      "Bed Bugs\n",
      "Index(['NO_DECLARATION ', 'DATE_DECLARATION', 'DATE_PRIOR_INSP', 'EXT_FREQ',\n",
      "       'DATE_FIRST_EXT', 'DATE_LAST_EXT', 'HOOD_NUM', 'HOOD_NAME', 'BORO_NAME',\n",
      "       'MTM8_X', 'MTM8_Y', 'LONGITUDE', 'LATITUDE', 'DATE_DIFF', 'DEC_MONTH'],\n",
      "      dtype='object')\n",
      "   NO_DECLARATION     DATE_DECLARATION DATE_PRIOR_INSP  EXT_FREQ  \\\n",
      "0             4254 2012-10-28 16:36:04      2012-09-21      1.00   \n",
      "1              830 2011-09-16 09:45:58      2011-07-13      1.00   \n",
      "2             1380 2011-11-08 14:01:04      2011-11-02      1.00   \n",
      "3              455 2011-08-10 09:53:47      2011-08-09      1.00   \n",
      "4             1243 2011-10-26 10:11:32      2011-09-16      1.00   \n",
      "\n",
      "  DATE_FIRST_EXT DATE_LAST_EXT HOOD_NUM      HOOD_NAME  \\\n",
      "0     2012-09-21    2012-09-21       24     Beaurivage   \n",
      "1     2011-07-27    2011-08-17       50    Saint-Henri   \n",
      "2     2011-11-07    2011-11-21       30   Sainte-Marie   \n",
      "3     2011-08-09    2011-08-09       44  Upper Lachine   \n",
      "4     2011-10-05    2011-10-05       19    Petite-Côte   \n",
      "\n",
      "                             BORO_NAME    MTM8_X     MTM8_Y  LONGITUDE  \\\n",
      "0        Mercier–Hochelaga-Maisonneuve 303753.60 5049835.70     -73.51   \n",
      "1                         Le Sud-Ouest 298119.80 5036963.70     -73.59   \n",
      "2                          Ville-Marie 300294.90 5042372.10     -73.56   \n",
      "3  Côte-des-Neiges–Notre-Dame-de-Grâce 296046.90 5036494.90     -73.61   \n",
      "4            Rosemont–La Petite-Patrie 299524.20 5045639.90     -73.57   \n",
      "\n",
      "   LATITUDE  DATE_DIFF  DEC_MONTH  \n",
      "0     45.59      38.00         10  \n",
      "1     45.47      65.00          9  \n",
      "2     45.52       7.00         11  \n",
      "3     45.47       1.00          8  \n",
      "4     45.55      40.00         10  \n",
      "       NO_DECLARATION   EXT_FREQ    MTM8_X     MTM8_Y  LONGITUDE  LATITUDE  \\\n",
      "count         33365.00  31241.00  33365.00   33365.00   33365.00  33365.00   \n",
      "mean          17119.47      1.50 297055.28 5044088.86     -73.60     45.54   \n",
      "std            9819.57      0.91   3664.67    4756.57       0.05      0.04   \n",
      "min             104.00      1.00 274266.10 5030733.00     -73.89     45.42   \n",
      "25%            8602.00      1.00 294841.50 5041950.60     -73.63     45.52   \n",
      "50%           17099.00      1.00 297627.30 5044129.10     -73.59     45.54   \n",
      "75%           25632.00      2.00 299638.40 5046434.50     -73.57     45.56   \n",
      "max           34130.00      4.00 306021.80 5062070.20     -73.48     45.70   \n",
      "\n",
      "       DATE_DIFF  DEC_MONTH  \n",
      "count   33357.00   33365.00  \n",
      "mean       37.96       7.13  \n",
      "std        78.69       3.33  \n",
      "min      -347.00       1.00  \n",
      "25%         6.00       4.00  \n",
      "50%        16.00       8.00  \n",
      "75%        40.00      10.00  \n",
      "max      3738.00      12.00  \n",
      "Rosemont–La Petite-Patrie                   4320\n",
      "Villeray–Saint-Michel–Parc-Extension        4304\n",
      "Mercier–Hochelaga-Maisonneuve               4036\n",
      "Le Plateau-Mont-Royal                       3696\n",
      "Ville-Marie                                 3347\n",
      "Côte-des-Neiges–Notre-Dame-de-Grâce         2909\n",
      "Ahuntsic-Cartierville                       2695\n",
      "Montréal-Nord                               1754\n",
      "Le Sud-Ouest                                1251\n",
      "Saint-Laurent                               1116\n",
      "Saint-Léonard                                994\n",
      "Verdun                                       782\n",
      "Rivière-des-Prairies–Pointe-aux-Trembles     695\n",
      "LaSalle                                      521\n",
      "Lachine                                      361\n",
      "Anjou                                        304\n",
      "Outremont                                    145\n",
      "Pierrefonds-Roxboro                          117\n",
      "L'Île-Bizard–Sainte-Geneviève                 18\n",
      "Name: BORO_NAME, dtype: int64\n",
      "max: 4320\n",
      "min: 18\n",
      "sum: 33365\n",
      "mean: 1756.0526315789473\n",
      "mean: 1756.05\n",
      "std: 1521.2930951793749\n",
      "std: 1521.29\n",
      "median: 1116.0\n",
      "count: 19\n",
      "Corr:                  NO_DECLARATION   EXT_FREQ  MTM8_X  MTM8_Y  LONGITUDE  \\\n",
      "NO_DECLARATION              1.00     -0.05   -0.05   -0.00      -0.05   \n",
      "EXT_FREQ                   -0.05      1.00    0.02    0.01       0.02   \n",
      "MTM8_X                     -0.05      0.02    1.00    0.22       1.00   \n",
      "MTM8_Y                     -0.00      0.01    0.22    1.00       0.22   \n",
      "LONGITUDE                  -0.05      0.02    1.00    0.22       1.00   \n",
      "LATITUDE                   -0.00      0.01    0.22    1.00       0.22   \n",
      "DATE_DIFF                   0.11     -0.02   -0.07    0.01      -0.07   \n",
      "DEC_MONTH                   0.08     -0.05   -0.00    0.02      -0.00   \n",
      "\n",
      "                 LATITUDE  DATE_DIFF  DEC_MONTH  \n",
      "NO_DECLARATION      -0.00       0.11       0.08  \n",
      "EXT_FREQ             0.01      -0.02      -0.05  \n",
      "MTM8_X               0.22      -0.07      -0.00  \n",
      "MTM8_Y               1.00       0.01       0.02  \n",
      "LONGITUDE            0.22      -0.07      -0.00  \n",
      "LATITUDE             1.00       0.01       0.02  \n",
      "DATE_DIFF            0.01       1.00       0.05  \n",
      "DEC_MONTH            0.02       0.05       1.00  \n"
     ]
    }
   ],
   "source": [
    "# Load the data\n",
    "df = pd.read_csv('data/declarations-exterminations-punaises-de-lit-2.csv')\n",
    "#df['date'] = pd.to_datetime(df['date'])\n",
    "#df\n",
    "\n",
    "df['DATE_DECLARATION'] = pd.to_datetime(df['DATE_DECLARATION'])\n",
    "df['DATE_PRIOR_INSP'] = pd.to_datetime(df['DATE_PRIOR_INSP'])\n",
    "\n",
    "# Create difference between Declaration and Inspection\n",
    "df['DATE_DIFF'] = round((df['DATE_DECLARATION'] - df['DATE_PRIOR_INSP'])/np.timedelta64(1,'D'))\n",
    "\n",
    "# Create a column extracting month\n",
    "df['DEC_MONTH'] = pd.DatetimeIndex(df['DATE_DECLARATION']).month\n",
    "\n",
    "#Concatenate the values\n",
    "#df['COORD_ADD'] = str(df['MTM8_X']) + '_' + str(df['MTM8_Y'])\n",
    "#print(df['COORD_ADD'])\n",
    "#print(str(df['LONGITUDE']) + '_' + str(df['LATITUDE']))\n",
    "#print(df.shape)\n",
    "\n",
    "print('Bed Bugs')\n",
    "print(df.columns)\n",
    "print(df.head())\n",
    "print(df.describe())\n",
    "\n",
    "\n",
    "print(df['BORO_NAME'].value_counts())\n",
    "print('max:',np.max(df['BORO_NAME'].value_counts()))\n",
    "print('min:',np.min(df['BORO_NAME'].value_counts()))\n",
    "print('sum:',np.sum(df['BORO_NAME'].value_counts()))\n",
    "print('mean:',np.mean(df['BORO_NAME'].value_counts()))\n",
    "print('mean:',np.round(np.mean(df['BORO_NAME'].value_counts()),2))\n",
    "print('std:',np.std(df['BORO_NAME'].value_counts()))\n",
    "print('std:',np.round(np.std(df['BORO_NAME'].value_counts()),2))\n",
    "print('median:',np.median(df['BORO_NAME'].value_counts()))\n",
    "print ('count:',df['BORO_NAME'].value_counts().count())\n",
    "\n",
    "print('Corr:',df.corr())\n"
   ]
  },
  {
   "cell_type": "markdown",
   "metadata": {},
   "source": [
    "## Data Perspective\n",
    "- One variable\n",
    "    - Numeric variables\n",
    "        - continuous: average income\n",
    "        - discrete: population\n",
    "    - Categorical variables\n",
    "        - ordinal: grade\n",
    "        - nominal: house, apartment, townhouse, etc.\n",
    "- Multiple variables\n",
    "    - Numeric x Numeric\n",
    "    - Categorical x Numeric\n",
    "    - Categorical x Categorical"
   ]
  },
  {
   "cell_type": "markdown",
   "metadata": {},
   "source": [
    "## One Variable (numeric)"
   ]
  },
  {
   "cell_type": "code",
   "execution_count": 65,
   "metadata": {},
   "outputs": [
    {
     "name": "stdout",
     "output_type": "stream",
     "text": [
      "count   33357.00\n",
      "mean       38.00\n",
      "std        79.00\n",
      "min      -347.00\n",
      "25%         6.00\n",
      "50%        16.00\n",
      "75%        40.00\n",
      "max      3738.00\n",
      "Name: DATE_DIFF, dtype: float64\n"
     ]
    },
    {
     "data": {
      "image/png": "[encoded data removed]",
      "text/plain": [
       "<Figure size 432x288 with 1 Axes>"
      ]
     },
     "metadata": {},
     "output_type": "display_data"
    }
   ],
   "source": [
    "# Analize pricing distribution\n",
    "\n",
    "# Histogram\n",
    "print(df['DATE_DIFF'].describe().round())\n",
    "plt.hist(df['DATE_DIFF'], bins=50)\n",
    "plt.show()\n",
    "# Box plot\n",
    "#plt.boxplot(df['EXT_FREQ'])\n",
    "#plt.xticks([1], ['EXT_FREQ'], rotation='horizontal')\n",
    "#plt.show()"
   ]
  },
  {
   "cell_type": "code",
   "execution_count": null,
   "metadata": {
    "collapsed": true
   },
   "outputs": [],
   "source": [
    "#TODO: Analyze all the numerical variables"
   ]
  },
  {
   "cell_type": "markdown",
   "metadata": {},
   "source": [
    "## One Variable (categorical)"
   ]
  },
  {
   "cell_type": "code",
   "execution_count": 87,
   "metadata": {},
   "outputs": [
    {
     "name": "stdout",
     "output_type": "stream",
     "text": [
      "Rosemont–La Petite-Patrie               4320\n",
      "Villeray–Saint-Michel–Parc-Extension    4304\n",
      "Mercier–Hochelaga-Maisonneuve           4036\n",
      "Le Plateau-Mont-Royal                   3696\n",
      "Ville-Marie                             3347\n",
      "Côte-des-Neiges–Notre-Dame-de-Grâce     2909\n",
      "Ahuntsic-Cartierville                   2695\n",
      "Montréal-Nord                           1754\n",
      "Le Sud-Ouest                            1251\n",
      "Saint-Laurent                           1116\n",
      "Name: BORO_NAME, dtype: int64\n"
     ]
    },
    {
     "data": {
      "image/png": "[encoded data removed]",
      "text/plain": [
       "<Figure size 864x432 with 1 Axes>"
      ]
     },
     "metadata": {},
     "output_type": "display_data"
    }
   ],
   "source": [
    "# Analize zipcode distribution\n",
    "#print(df['BORO_NAME'].value_counts())\n",
    "print(df['BORO_NAME'].value_counts().head(10))\n",
    "\n",
    "# Bar Chart\n",
    "plt.figure(figsize=(12,6))\n",
    "plt.title('Top 10 Boroughs By Declaration')\n",
    "plt.xlabel('Boroughs')\n",
    "plt.ylabel('Declarations')\n",
    "\n",
    "#labels = df['BORO_NAME'].value_counts().index\n",
    "#values = df['BORO_NAME'].value_counts().values\n",
    "\n",
    "labels = df['BORO_NAME'].value_counts().head(10).index\n",
    "values = df['BORO_NAME'].value_counts().head(10).values\n",
    "\n",
    "\n",
    "y_pos = range(len(labels))\n",
    "plt.bar(y_pos, values, align='center', alpha=0.5)\n",
    "plt.xticks(y_pos, labels)\n",
    "plt.show()"
   ]
  },
  {
   "cell_type": "code",
   "execution_count": null,
   "metadata": {
    "collapsed": true
   },
   "outputs": [],
   "source": [
    "#TODO: Analyze all the categorical variables"
   ]
  },
  {
   "cell_type": "code",
   "execution_count": 88,
   "metadata": {},
   "outputs": [
    {
     "name": "stdout",
     "output_type": "stream",
     "text": [
      "Sainte-Marie      1730\n",
      "Crémazie          1205\n",
      "Parc-Extension    1171\n",
      "Maisonneuve       1150\n",
      "Lorimier           964\n",
      "Vieux-Rosemont     938\n",
      "Est                866\n",
      "Père-Marquette     800\n",
      "Cartierville       793\n",
      "Montagne           792\n",
      "Name: HOOD_NAME, dtype: int64\n"
     ]
    },
    {
     "data": {
      "image/png": "[encoded data removed]",
      "text/plain": [
       "<Figure size 864x432 with 1 Axes>"
      ]
     },
     "metadata": {},
     "output_type": "display_data"
    }
   ],
   "source": [
    "# Analyze Neighborhood distribution\n",
    "print(df['HOOD_NAME'].value_counts().head(10))\n",
    "\n",
    "# Bar Chart\n",
    "plt.figure(figsize=(12,6))\n",
    "plt.title('Top 10 Neighborhoods By Declaration')\n",
    "plt.xlabel('Neighborhoods')\n",
    "plt.ylabel('Declarations')\n",
    "\n",
    "#labels = df['BORO_NAME'].value_counts().index\n",
    "#values = df['BORO_NAME'].value_counts().values\n",
    "\n",
    "labels = df['HOOD_NAME'].value_counts().head(10).index\n",
    "values = df['HOOD_NAME'].value_counts().head(10).values\n",
    "\n",
    "\n",
    "y_pos = range(len(labels))\n",
    "plt.bar(y_pos, values, align='center', alpha=0.5)\n",
    "plt.xticks(y_pos, labels)\n",
    "plt.show()"
   ]
  },
  {
   "cell_type": "code",
   "execution_count": 89,
   "metadata": {},
   "outputs": [
    {
     "name": "stdout",
     "output_type": "stream",
     "text": [
      "10    4022\n",
      "9     3671\n",
      "11    3379\n",
      "7     3217\n",
      "8     3202\n",
      "12    2703\n",
      "6     2552\n",
      "2     2264\n",
      "3     2186\n",
      "5     2069\n",
      "4     2069\n",
      "1     2031\n",
      "Name: DEC_MONTH, dtype: int64\n"
     ]
    },
    {
     "data": {
      "image/png": "[encoded data removed]",
      "text/plain": [
       "<Figure size 864x432 with 1 Axes>"
      ]
     },
     "metadata": {},
     "output_type": "display_data"
    }
   ],
   "source": [
    "# Analyze Months distribution from declaration\n",
    "print(df['DEC_MONTH'].value_counts().head(12))\n",
    "\n",
    "# Bar Chart\n",
    "plt.figure(figsize=(12,6))\n",
    "plt.title('Declarations by Month')\n",
    "plt.xlabel('Month')\n",
    "plt.ylabel('Declarations')\n",
    "\n",
    "#labels = df['BORO_NAME'].value_counts().index\n",
    "#values = df['BORO_NAME'].value_counts().values\n",
    "\n",
    "labels = df['DEC_MONTH'].value_counts().head(10).index\n",
    "values = df['DEC_MONTH'].value_counts().head(10).values\n",
    "\n",
    "\n",
    "y_pos = range(len(labels))\n",
    "plt.bar(y_pos, values, align='center', alpha=0.5)\n",
    "plt.xticks(y_pos, labels)\n",
    "plt.show()"
   ]
  },
  {
   "cell_type": "markdown",
   "metadata": {},
   "source": [
    "## Multiple variables (Numeric x Numeric)"
   ]
  },
  {
   "cell_type": "code",
   "execution_count": 90,
   "metadata": {},
   "outputs": [
    {
     "data": {
      "text/html": [
       "<div>\n",
       "<style scoped>\n",
       "    .dataframe tbody tr th:only-of-type {\n",
       "        vertical-align: middle;\n",
       "    }\n",
       "\n",
       "    .dataframe tbody tr th {\n",
       "        vertical-align: top;\n",
       "    }\n",
       "\n",
       "    .dataframe thead th {\n",
       "        text-align: right;\n",
       "    }\n",
       "</style>\n",
       "<table border=\"1\" class=\"dataframe\">\n",
       "  <thead>\n",
       "    <tr style=\"text-align: right;\">\n",
       "      <th></th>\n",
       "      <th>NO_DECLARATION</th>\n",
       "      <th>EXT_FREQ</th>\n",
       "      <th>MTM8_X</th>\n",
       "      <th>MTM8_Y</th>\n",
       "      <th>LONGITUDE</th>\n",
       "      <th>LATITUDE</th>\n",
       "      <th>DATE_DIFF</th>\n",
       "      <th>DEC_MONTH</th>\n",
       "    </tr>\n",
       "  </thead>\n",
       "  <tbody>\n",
       "    <tr>\n",
       "      <th>NO_DECLARATION</th>\n",
       "      <td>1.00</td>\n",
       "      <td>-0.05</td>\n",
       "      <td>-0.05</td>\n",
       "      <td>-0.00</td>\n",
       "      <td>-0.05</td>\n",
       "      <td>-0.00</td>\n",
       "      <td>0.11</td>\n",
       "      <td>0.08</td>\n",
       "    </tr>\n",
       "    <tr>\n",
       "      <th>EXT_FREQ</th>\n",
       "      <td>-0.05</td>\n",
       "      <td>1.00</td>\n",
       "      <td>0.02</td>\n",
       "      <td>0.01</td>\n",
       "      <td>0.02</td>\n",
       "      <td>0.01</td>\n",
       "      <td>-0.02</td>\n",
       "      <td>-0.05</td>\n",
       "    </tr>\n",
       "    <tr>\n",
       "      <th>MTM8_X</th>\n",
       "      <td>-0.05</td>\n",
       "      <td>0.02</td>\n",
       "      <td>1.00</td>\n",
       "      <td>0.22</td>\n",
       "      <td>1.00</td>\n",
       "      <td>0.22</td>\n",
       "      <td>-0.07</td>\n",
       "      <td>-0.00</td>\n",
       "    </tr>\n",
       "    <tr>\n",
       "      <th>MTM8_Y</th>\n",
       "      <td>-0.00</td>\n",
       "      <td>0.01</td>\n",
       "      <td>0.22</td>\n",
       "      <td>1.00</td>\n",
       "      <td>0.22</td>\n",
       "      <td>1.00</td>\n",
       "      <td>0.01</td>\n",
       "      <td>0.02</td>\n",
       "    </tr>\n",
       "    <tr>\n",
       "      <th>LONGITUDE</th>\n",
       "      <td>-0.05</td>\n",
       "      <td>0.02</td>\n",
       "      <td>1.00</td>\n",
       "      <td>0.22</td>\n",
       "      <td>1.00</td>\n",
       "      <td>0.22</td>\n",
       "      <td>-0.07</td>\n",
       "      <td>-0.00</td>\n",
       "    </tr>\n",
       "    <tr>\n",
       "      <th>LATITUDE</th>\n",
       "      <td>-0.00</td>\n",
       "      <td>0.01</td>\n",
       "      <td>0.22</td>\n",
       "      <td>1.00</td>\n",
       "      <td>0.22</td>\n",
       "      <td>1.00</td>\n",
       "      <td>0.01</td>\n",
       "      <td>0.02</td>\n",
       "    </tr>\n",
       "    <tr>\n",
       "      <th>DATE_DIFF</th>\n",
       "      <td>0.11</td>\n",
       "      <td>-0.02</td>\n",
       "      <td>-0.07</td>\n",
       "      <td>0.01</td>\n",
       "      <td>-0.07</td>\n",
       "      <td>0.01</td>\n",
       "      <td>1.00</td>\n",
       "      <td>0.05</td>\n",
       "    </tr>\n",
       "    <tr>\n",
       "      <th>DEC_MONTH</th>\n",
       "      <td>0.08</td>\n",
       "      <td>-0.05</td>\n",
       "      <td>-0.00</td>\n",
       "      <td>0.02</td>\n",
       "      <td>-0.00</td>\n",
       "      <td>0.02</td>\n",
       "      <td>0.05</td>\n",
       "      <td>1.00</td>\n",
       "    </tr>\n",
       "  </tbody>\n",
       "</table>\n",
       "</div>"
      ],
      "text/plain": [
       "                 NO_DECLARATION   EXT_FREQ  MTM8_X  MTM8_Y  LONGITUDE  \\\n",
       "NO_DECLARATION              1.00     -0.05   -0.05   -0.00      -0.05   \n",
       "EXT_FREQ                   -0.05      1.00    0.02    0.01       0.02   \n",
       "MTM8_X                     -0.05      0.02    1.00    0.22       1.00   \n",
       "MTM8_Y                     -0.00      0.01    0.22    1.00       0.22   \n",
       "LONGITUDE                  -0.05      0.02    1.00    0.22       1.00   \n",
       "LATITUDE                   -0.00      0.01    0.22    1.00       0.22   \n",
       "DATE_DIFF                   0.11     -0.02   -0.07    0.01      -0.07   \n",
       "DEC_MONTH                   0.08     -0.05   -0.00    0.02      -0.00   \n",
       "\n",
       "                 LATITUDE  DATE_DIFF  DEC_MONTH  \n",
       "NO_DECLARATION      -0.00       0.11       0.08  \n",
       "EXT_FREQ             0.01      -0.02      -0.05  \n",
       "MTM8_X               0.22      -0.07      -0.00  \n",
       "MTM8_Y               1.00       0.01       0.02  \n",
       "LONGITUDE            0.22      -0.07      -0.00  \n",
       "LATITUDE             1.00       0.01       0.02  \n",
       "DATE_DIFF            0.01       1.00       0.05  \n",
       "DEC_MONTH            0.02       0.05       1.00  "
      ]
     },
     "execution_count": 90,
     "metadata": {},
     "output_type": "execute_result"
    }
   ],
   "source": [
    "# Correlation\n",
    "df.corr()"
   ]
  },
  {
   "cell_type": "code",
   "execution_count": 91,
   "metadata": {},
   "outputs": [
    {
     "data": {
      "image/png": "[encoded data removed]",
      "text/plain": [
       "<Figure size 720x504 with 2 Axes>"
      ]
     },
     "metadata": {},
     "output_type": "display_data"
    }
   ],
   "source": [
    "# heatmap\n",
    "corrmat = df.corr()\n",
    "f, ax = plt.subplots(figsize=(10, 7))\n",
    "sns.heatmap(corrmat, vmax=.8, square=True)\n",
    "plt.show()"
   ]
  },
  {
   "cell_type": "code",
   "execution_count": 69,
   "metadata": {},
   "outputs": [
    {
     "data": {
      "image/png": "[encoded data removed]",
      "text/plain": [
       "<Figure size 720x720 with 1 Axes>"
      ]
     },
     "metadata": {},
     "output_type": "display_data"
    }
   ],
   "source": [
    "# Visualization : correlation between Price x SQFT\n",
    "\n",
    "#plt.figure(figsize=(10,10))\n",
    "#plt.xlabel('DATE_DIFF')\n",
    "#plt.ylabel('DEC_MONTH')\n",
    "\n",
    "#plt.plot(df['DATE_DIFF'], df['DEC_MONTH'], 'o', alpha=0.3)\n",
    "#plt.show()"
   ]
  },
  {
   "cell_type": "code",
   "execution_count": null,
   "metadata": {
    "collapsed": true
   },
   "outputs": [],
   "source": [
    "# TODO: Create a scatterplot Price x Mean Income\n",
    "# TODO: What is the correlation between Price x Mean Income\n"
   ]
  },
  {
   "cell_type": "markdown",
   "metadata": {},
   "source": [
    "## Multiple variables (Categorical x Numeric)"
   ]
  },
  {
   "cell_type": "code",
   "execution_count": 92,
   "metadata": {},
   "outputs": [
    {
     "data": {
      "image/png": "[encoded data removed]",
      "text/plain": [
       "<Figure size 432x288 with 1 Axes>"
      ]
     },
     "metadata": {},
     "output_type": "display_data"
    }
   ],
   "source": [
    "# Box plot to show the distribution between BOROUGHS x Number days between declaration and inspection\n",
    "values = []\n",
    "labels = []\n",
    "for bdr in sorted(df['BORO_NAME'].unique()):\n",
    "    labels.append(bdr)\n",
    "    values.append(list(df[df['BORO_NAME']==bdr]['DATE_DIFF'].values))\n",
    "\n",
    "plt.boxplot(values)\n",
    "plt.xticks(range(1,len(labels)+1), labels, rotation='horizontal')\n",
    "plt.show()"
   ]
  },
  {
   "cell_type": "markdown",
   "metadata": {},
   "source": [
    "## Multiple variables (Categorical x Categorical)"
   ]
  },
  {
   "cell_type": "code",
   "execution_count": null,
   "metadata": {},
   "outputs": [],
   "source": [
    "# Count of number of houses by zipcode and bedrooms\n",
    "\n",
    "n_bedrooms = [2,3,4]\n",
    "zipcodes = df['zipcode'].unique()\n",
    "r = range(len(zipcodes))\n",
    "\n",
    "df_group = df.groupby(['zipcode', 'bedrooms'])['id'].count().reset_index()\n",
    "df_group = df.pivot_table(index='zipcode', columns = 'bedrooms', values='id')\n",
    "df_group = df_group[[2,3,4]]\n",
    "df_group.columns = ['2BR','3BR','4BR']\n",
    "df_group = df_group.sort_values(['2BR','3BR','4BR'])\n",
    "\n",
    "raw_data = {'2BR': df_group['2BR'].values, \n",
    "            '3BR': df_group['3BR'].values, \n",
    "            '4BR': df_group['4BR'].values\n",
    "           }\n",
    "\n",
    "# From raw value to percentage\n",
    "totals = [float(i+j+k) for i,j,k in zip(raw_data['2BR'], raw_data['3BR'], raw_data['4BR'])]\n",
    "br2Bars = [i / j * 100 for i,j in zip(raw_data['2BR'], totals)]\n",
    "br3Bars = [i / j * 100 for i,j in zip(raw_data['3BR'], totals)]\n",
    "br4Bars = [i / j * 100 for i,j in zip(raw_data['4BR'], totals)]\n",
    "\n",
    "# plot\n",
    "barWidth = 0.85\n",
    "names = zipcodes\n",
    "plt.figure(figsize=(12,6))\n",
    "# Create green Bars\n",
    "plt.bar(r, br2Bars, edgecolor='white', width=barWidth, alpha=0.7, color='g', label='2BR')\n",
    "# Create orange Bars\n",
    "plt.bar(r, br3Bars, bottom=br2Bars, edgecolor='white', width=barWidth, alpha=0.7, color='orange', label='3BR')\n",
    "# Create blue Bars\n",
    "plt.bar(r, br4Bars, bottom=[i+j for i,j in zip(br2Bars, br3Bars)], edgecolor='white', width=barWidth, alpha=0.7, color='b', label='4BR')\n",
    "\n",
    "# Limit on y-axis\n",
    "plt.ylim(0,100)\n",
    "\n",
    "# Custom x axis\n",
    "plt.xticks(r, names, rotation='vertical')\n",
    "plt.ylabel(\"Percent\")\n",
    "plt.xlabel(\"zipcode\")\n",
    "\n",
    "plt.legend()\n",
    "\n",
    "# Show graphic\n",
    "plt.show()"
   ]
  },
  {
   "cell_type": "markdown",
   "metadata": {},
   "source": [
    "## Business Perspective\n",
    "\"An approximate answer to the right question is worth a great deal more than a precise answer to the wrong question.\" John Tukey"
   ]
  },
  {
   "cell_type": "code",
   "execution_count": null,
   "metadata": {
    "collapsed": true
   },
   "outputs": [],
   "source": [
    "# What is the total number of sales per month?"
   ]
  },
  {
   "cell_type": "code",
   "execution_count": null,
   "metadata": {
    "collapsed": true
   },
   "outputs": [],
   "source": [
    "# What is the total sales ($) per month?"
   ]
  },
  {
   "cell_type": "code",
   "execution_count": null,
   "metadata": {
    "collapsed": true
   },
   "outputs": [],
   "source": [
    "# What is the total number of sales per day of week?"
   ]
  },
  {
   "cell_type": "code",
   "execution_count": null,
   "metadata": {
    "collapsed": true
   },
   "outputs": [],
   "source": [
    "# What is the average price by zip code?"
   ]
  },
  {
   "cell_type": "code",
   "execution_count": null,
   "metadata": {
    "collapsed": true
   },
   "outputs": [],
   "source": [
    "# Identify the zip codes with highest and lowest price per square foot"
   ]
  },
  {
   "cell_type": "code",
   "execution_count": null,
   "metadata": {
    "collapsed": true
   },
   "outputs": [],
   "source": [
    "# Is the grade a good indicator of price?"
   ]
  },
  {
   "cell_type": "code",
   "execution_count": null,
   "metadata": {
    "collapsed": true
   },
   "outputs": [],
   "source": [
    "# Is the walking score a good indicator of price?"
   ]
  },
  {
   "cell_type": "code",
   "execution_count": null,
   "metadata": {},
   "outputs": [],
   "source": [
    "# Apply linear regression to the price\n",
    "\n",
    "from sklearn import linear_model\n",
    "\n",
    "# Create linear regression object\n",
    "model = linear_model.LinearRegression()\n",
    "\n",
    "columns = ['bedrooms', 'sqft_living15', 'grade', 'condition']\n",
    "\n",
    "# Train the model using the training sets\n",
    "model.fit(df[columns], df['price'])\n",
    "\n",
    "# Print the Coefficients\n",
    "print('Coefficients', np.round(model.coef_,2))\n",
    "print('Interception', round(model.intercept_,2))\n",
    "print('')\n",
    "for i, col in enumerate(columns):\n",
    "    print(col, round(model.coef_[i],1))\n",
    "\n",
    "print('')\n",
    "prediction = model.predict([[4, 3000, 10, 4]])\n",
    "print('Prediction', prediction.round(1)[0])"
   ]
  },
  {
   "cell_type": "code",
   "execution_count": null,
   "metadata": {},
   "outputs": [],
   "source": [
    "# Apply linear regression to the price considering the zipcode\n",
    "\n",
    "from sklearn import linear_model\n",
    "\n",
    "# Create linear regression object\n",
    "model = linear_model.LinearRegression()\n",
    "\n",
    "columns = ['bedrooms', 'sqft_living15', 'grade', 'condition']\n",
    "\n",
    "# Train the model using the training sets\n",
    "zipcode = 98000\n",
    "model.fit(df[df['zipcode']==zipcode][columns], df[df['zipcode']==zipcode]['price'])\n",
    "\n",
    "# Print the Coefficients\n",
    "print('Coefficients', np.round(model.coef_,2))\n",
    "print('Interception', round(model.intercept_,2))\n",
    "print('')\n",
    "for i, col in enumerate(columns):\n",
    "    print(col, round(model.coef_[i],1))\n",
    "\n",
    "print('')\n",
    "prediction = model.predict([[4, 3000, 10, 4]])\n",
    "print('Prediction', prediction.round(1)[0])"
   ]
  }
 ],
 "metadata": {
  "anaconda-cloud": {},
  "kernelspec": {
   "display_name": "Python 3",
   "language": "python",
   "name": "python3"
  },
  "language_info": {
   "codemirror_mode": {
    "name": "ipython",
    "version": 3
   },
   "file_extension": ".py",
   "mimetype": "text/x-python",
   "name": "python",
   "nbconvert_exporter": "python",
   "pygments_lexer": "ipython3",
   "version": "3.7.1"
  }
 },
 "nbformat": 4,
 "nbformat_minor": 1
}
