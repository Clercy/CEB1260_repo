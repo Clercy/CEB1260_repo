{
 "cells": [
  {
   "cell_type": "markdown",
   "metadata": {},
   "source": [
    "# Data Wrangling & Data Cleaning (Notebook 1_Week 3 Deliverable)"
   ]
  },
  {
   "cell_type": "markdown",
   "metadata": {},
   "source": [
    "### Import libraries"
   ]
  },
  {
   "cell_type": "code",
   "execution_count": 1,
   "metadata": {},
   "outputs": [],
   "source": [
    "# import the library\n",
    "%matplotlib inline\n",
    "\n",
    "import pandas as pd #pandas library, data structures and data analysis tools for python\n",
    "import numpy as np #numpy library, multi-dimensional container of generic data, and scientific use\n",
    "import matplotlib.pyplot as plt #matplotlib for graphs, Python 2D plotting library\n",
    "\n",
    "# convert scientific notation to foat \"decimals\"\n",
    "pd.set_option('display.float_format', lambda x: '%.2f' % x)"
   ]
  },
  {
   "cell_type": "markdown",
   "metadata": {},
   "source": [
    "### Load the data"
   ]
  },
  {
   "cell_type": "code",
   "execution_count": 2,
   "metadata": {},
   "outputs": [],
   "source": [
    "df_bedbugs = pd.read_csv('declarations-exterminations-punaises-de-lit.csv')"
   ]
  },
  {
   "cell_type": "markdown",
   "metadata": {},
   "source": [
    "## Summarizing data for inspection"
   ]
  },
  {
   "cell_type": "markdown",
   "metadata": {},
   "source": [
    "#### Types"
   ]
  },
  {
   "cell_type": "code",
   "execution_count": 3,
   "metadata": {},
   "outputs": [
    {
     "name": "stdout",
     "output_type": "stream",
     "text": [
      "NO_DECLARATION        int64\n",
      "DATE_DECLARATION     object\n",
      "DATE_INSP_VISPRE     object\n",
      "NBR_EXTERMIN        float64\n",
      "DATE_DEBUTTRAIT      object\n",
      "DATE_FINTRAIT        object\n",
      "No_QR                object\n",
      "NOM_QR               object\n",
      "NOM_ARROND           object\n",
      "COORD_X             float64\n",
      "COORD_Y             float64\n",
      "LONGITUDE           float64\n",
      "LATITUDE            float64\n",
      "dtype: object\n"
     ]
    }
   ],
   "source": [
    "#Ref.: https://www.geeksforgeeks.org/python-pandas-series-astype-to-convert-data-type-of-series/\n",
    "print(df_bedbugs.dtypes)"
   ]
  },
  {
   "cell_type": "markdown",
   "metadata": {},
   "source": [
    "#### Converting data types"
   ]
  },
  {
   "cell_type": "code",
   "execution_count": 4,
   "metadata": {},
   "outputs": [
    {
     "name": "stdout",
     "output_type": "stream",
     "text": [
      "0    2012-10-28T16:36:04\n",
      "1    2011-09-16T09:45:58\n",
      "2    2011-11-08T14:01:04\n",
      "3    2011-08-10T09:53:47\n",
      "4    2011-10-26T10:11:32\n",
      "Name: DATE_DECLARATION, dtype: object\n"
     ]
    }
   ],
   "source": [
    "#Ref [1]: https://pandas.pydata.org/pandas-docs/stable/reference/api/pandas.to_datetime.html\n",
    "\n",
    "# Convert 'DATE_INSP_VISPRE', 'DATE_DEBUTTRAIT', and 'DATE_FINTRAIT'\n",
    "df_bedbugs['DATE_INSP_VISPRE'] = pd.to_datetime(df_bedbugs['DATE_INSP_VISPRE'])\n",
    "df_bedbugs['DATE_DEBUTTRAIT'] = pd.to_datetime(df_bedbugs['DATE_DEBUTTRAIT'])\n",
    "df_bedbugs['DATE_FINTRAIT'] = pd.to_datetime(df_bedbugs['DATE_FINTRAIT'])\n",
    "\n",
    "# print\n",
    "print(df_bedbugs['DATE_DECLARATION'].head())"
   ]
  },
  {
   "cell_type": "code",
   "execution_count": 5,
   "metadata": {},
   "outputs": [
    {
     "name": "stdout",
     "output_type": "stream",
     "text": [
      "0   2012-10-28\n",
      "1   2011-09-16\n",
      "2   2011-11-08\n",
      "3   2011-08-10\n",
      "4   2011-10-26\n",
      "Name: DATE_DECLARATION, dtype: datetime64[ns]\n"
     ]
    }
   ],
   "source": [
    "# Convert 'DATE_DECLARATION to %Y-%m-%d %H:%M:%S\n",
    "df_bedbugs['DATE_DECLARATION'] = pd.to_datetime(df_bedbugs['DATE_DECLARATION'])\n",
    "\n",
    "# Ref. https://stackoverflow.com/questions/51310072/how-to-change-format-of-data-to-ymd-in-pandas\n",
    "# Convert to string\n",
    "df_bedbugs['DATE_DECLARATION'] = df_bedbugs['DATE_DECLARATION'].dt.strftime('%Y-%m-%d')\n",
    "\n",
    "# Convert 'DATE_DECLARATION to %Y-%m-%d\n",
    "df_bedbugs['DATE_DECLARATION'] = pd.to_datetime(df_bedbugs['DATE_DECLARATION'])\n",
    "\n",
    "print(df_bedbugs['DATE_DECLARATION'].head())"
   ]
  },
  {
   "cell_type": "code",
   "execution_count": 6,
   "metadata": {},
   "outputs": [
    {
     "name": "stdout",
     "output_type": "stream",
     "text": [
      "NO_DECLARATION               int64\n",
      "DATE_DECLARATION    datetime64[ns]\n",
      "DATE_INSP_VISPRE    datetime64[ns]\n",
      "NBR_EXTERMIN               float64\n",
      "DATE_DEBUTTRAIT     datetime64[ns]\n",
      "DATE_FINTRAIT       datetime64[ns]\n",
      "No_QR                       object\n",
      "NOM_QR                      object\n",
      "NOM_ARROND                  object\n",
      "COORD_X                    float64\n",
      "COORD_Y                    float64\n",
      "LONGITUDE                  float64\n",
      "LATITUDE                   float64\n",
      "dtype: object\n"
     ]
    }
   ],
   "source": [
    "# Print converted data types\n",
    "print(df_bedbugs.dtypes)"
   ]
  },
  {
   "cell_type": "markdown",
   "metadata": {},
   "source": [
    "### Columns, Head, and Describe Dataset"
   ]
  },
  {
   "cell_type": "code",
   "execution_count": 7,
   "metadata": {},
   "outputs": [
    {
     "data": {
      "text/plain": [
       "RangeIndex(start=0, stop=33365, step=1)"
      ]
     },
     "execution_count": 7,
     "metadata": {},
     "output_type": "execute_result"
    }
   ],
   "source": [
    "# view the dataframe index\n",
    "df_bedbugs.index"
   ]
  },
  {
   "cell_type": "code",
   "execution_count": 8,
   "metadata": {},
   "outputs": [
    {
     "data": {
      "text/plain": [
       "(33365, 13)"
      ]
     },
     "execution_count": 8,
     "metadata": {},
     "output_type": "execute_result"
    }
   ],
   "source": [
    "# view the dataframe shape\n",
    "df_bedbugs.shape"
   ]
  },
  {
   "cell_type": "code",
   "execution_count": 9,
   "metadata": {},
   "outputs": [
    {
     "data": {
      "text/plain": [
       "33365"
      ]
     },
     "execution_count": 9,
     "metadata": {},
     "output_type": "execute_result"
    }
   ],
   "source": [
    "len(df_bedbugs)"
   ]
  },
  {
   "cell_type": "code",
   "execution_count": 10,
   "metadata": {
    "scrolled": true
   },
   "outputs": [
    {
     "name": "stdout",
     "output_type": "stream",
     "text": [
      "Bed bug extermination declarations\n",
      "\n",
      "==================COLUMNS==================\n",
      "Index(['NO_DECLARATION', 'DATE_DECLARATION', 'DATE_INSP_VISPRE',\n",
      "       'NBR_EXTERMIN', 'DATE_DEBUTTRAIT', 'DATE_FINTRAIT', 'No_QR', 'NOM_QR',\n",
      "       'NOM_ARROND', 'COORD_X', 'COORD_Y', 'LONGITUDE', 'LATITUDE'],\n",
      "      dtype='object')\n",
      "\n",
      "==================HEAD==================\n",
      "   NO_DECLARATION DATE_DECLARATION DATE_INSP_VISPRE  NBR_EXTERMIN  \\\n",
      "0            4254       2012-10-28       2012-09-21          1.00   \n",
      "1             830       2011-09-16       2011-07-13          1.00   \n",
      "2            1380       2011-11-08       2011-11-02          1.00   \n",
      "3             455       2011-08-10       2011-08-09          1.00   \n",
      "4            1243       2011-10-26       2011-09-16          1.00   \n",
      "\n",
      "  DATE_DEBUTTRAIT DATE_FINTRAIT No_QR         NOM_QR  \\\n",
      "0      2012-09-21    2012-09-21    24     Beaurivage   \n",
      "1      2011-07-27    2011-08-17    50    Saint-Henri   \n",
      "2      2011-11-07    2011-11-21    30   Sainte-Marie   \n",
      "3      2011-08-09    2011-08-09    44  Upper Lachine   \n",
      "4      2011-10-05    2011-10-05    19    Petite-Côte   \n",
      "\n",
      "                            NOM_ARROND   COORD_X    COORD_Y  LONGITUDE  \\\n",
      "0        Mercier–Hochelaga-Maisonneuve 303753.60 5049835.70     -73.51   \n",
      "1                         Le Sud-Ouest 298119.80 5036963.70     -73.59   \n",
      "2                          Ville-Marie 300294.90 5042372.10     -73.56   \n",
      "3  Côte-des-Neiges–Notre-Dame-de-Grâce 296046.90 5036494.90     -73.61   \n",
      "4            Rosemont–La Petite-Patrie 299524.20 5045639.90     -73.57   \n",
      "\n",
      "   LATITUDE  \n",
      "0     45.59  \n",
      "1     45.47  \n",
      "2     45.52  \n",
      "3     45.47  \n",
      "4     45.55  \n",
      "\n",
      "==================DESCRIBE==================\n",
      "       NO_DECLARATION  NBR_EXTERMIN   COORD_X    COORD_Y  LONGITUDE  LATITUDE\n",
      "count        33365.00      31241.00  33365.00   33365.00   33365.00  33365.00\n",
      "mean         17119.47          1.50 297055.28 5044088.86     -73.60     45.54\n",
      "std           9819.57          0.91   3664.67    4756.57       0.05      0.04\n",
      "min            104.00          1.00 274266.10 5030733.00     -73.89     45.42\n",
      "25%           8602.00          1.00 294841.50 5041950.60     -73.63     45.52\n",
      "50%          17099.00          1.00 297627.30 5044129.10     -73.59     45.54\n",
      "75%          25632.00          2.00 299638.40 5046434.50     -73.57     45.56\n",
      "max          34130.00          4.00 306021.80 5062070.20     -73.48     45.70\n",
      "\n",
      "==================COUNT==================\n",
      "NO_DECLARATION      33365\n",
      "DATE_DECLARATION    33365\n",
      "DATE_INSP_VISPRE    33357\n",
      "NBR_EXTERMIN        31241\n",
      "DATE_DEBUTTRAIT     31241\n",
      "DATE_FINTRAIT       31241\n",
      "No_QR               33365\n",
      "NOM_QR              33365\n",
      "NOM_ARROND          33365\n",
      "COORD_X             33365\n",
      "COORD_Y             33365\n",
      "LONGITUDE           33365\n",
      "LATITUDE            33365\n",
      "dtype: int64\n"
     ]
    }
   ],
   "source": [
    "print('Bed bug extermination declarations')\n",
    "print('')\n",
    "print('==================COLUMNS==================')\n",
    "print(df_bedbugs.columns)\n",
    "print('')\n",
    "print('==================HEAD==================')\n",
    "print(df_bedbugs.head())\n",
    "print('')\n",
    "print('==================DESCRIBE==================')\n",
    "print(df_bedbugs.describe())\n",
    "print('')\n",
    "print('==================COUNT==================')\n",
    "print(df_bedbugs.count())"
   ]
  },
  {
   "cell_type": "markdown",
   "metadata": {},
   "source": [
    "### Rename columns"
   ]
  },
  {
   "cell_type": "code",
   "execution_count": 11,
   "metadata": {},
   "outputs": [
    {
     "name": "stdout",
     "output_type": "stream",
     "text": [
      "==================COLUMNS==================\n",
      "Index(['NO_DECLARATION', 'DATE_DECLARATION', 'DATE_PRIOR_INSP', 'EXT_FREQ',\n",
      "       'DATE_FIRST_EXT', 'DATE_LAST_EXT', 'HOOD_NUM', 'HOOD_NAME', 'BORO_NAME',\n",
      "       'MTM8_X', 'MTM8_Y', 'LONGITUDE', 'LATITUDE'],\n",
      "      dtype='object')\n",
      "\n"
     ]
    }
   ],
   "source": [
    "df_bedbugs.columns = ['NO_DECLARATION', 'DATE_DECLARATION', 'DATE_PRIOR_INSP', 'EXT_FREQ','DATE_FIRST_EXT','DATE_LAST_EXT',\n",
    "                      'HOOD_NUM','HOOD_NAME','BORO_NAME','MTM8_X','MTM8_Y','LONGITUDE','LATITUDE']\n",
    "print('==================COLUMNS==================')\n",
    "print(df_bedbugs.columns)\n",
    "print('')"
   ]
  },
  {
   "cell_type": "code",
   "execution_count": 12,
   "metadata": {},
   "outputs": [
    {
     "data": {
      "text/plain": [
       "0            -73.513411_45.588426\n",
       "1            -73.585437_45.472569\n",
       "2            -73.557668_45.521253\n",
       "3            -73.611941_45.468327\n",
       "4    -73.56756899999999_45.550652\n",
       "Name: LONG_LAT, dtype: object"
      ]
     },
     "execution_count": 12,
     "metadata": {},
     "output_type": "execute_result"
    }
   ],
   "source": [
    "#create a new column with longitude and latitude for an intersection\n",
    "\n",
    "# Ref.: https://stackoverflow.com/questions/19377969/combine-two-columns-of-text-in-dataframe-in-pandas-python/36911306\n",
    "df_bedbugs['LONG_LAT'] = df_bedbugs['LONGITUDE'].map(str)+\"_\"+df_bedbugs['LATITUDE'].map(str)\n",
    "df_bedbugs['LONG_LAT'].head()"
   ]
  },
  {
   "cell_type": "code",
   "execution_count": 13,
   "metadata": {},
   "outputs": [
    {
     "data": {
      "text/plain": [
       "0    303753.6_5049835.7\n",
       "1    298119.8_5036963.7\n",
       "2    300294.9_5042372.1\n",
       "3    296046.9_5036494.9\n",
       "4    299524.2_5045639.9\n",
       "Name: MTM_X_Y, dtype: object"
      ]
     },
     "execution_count": 13,
     "metadata": {},
     "output_type": "execute_result"
    }
   ],
   "source": [
    "# Concatenate MTM8_X and MTM8_Y\n",
    "#https://stackoverflow.com/questions/42520266/concatenating-two-floats-into-one-column-in-pandas\n",
    "# df['MTMXY'] = [', '.join(str(x) for x in y) for y in map(tuple, df[['MTM8_X', 'MTM8_Y']].values)]\n",
    "\n",
    "df_bedbugs['MTM_X_Y'] = df_bedbugs['MTM8_X'].map(str)+\"_\"+df_bedbugs['MTM8_Y'].map(str)\n",
    "df_bedbugs['MTM_X_Y'].head()"
   ]
  },
  {
   "cell_type": "code",
   "execution_count": 14,
   "metadata": {},
   "outputs": [
    {
     "data": {
      "text/plain": [
       "(33365, 15)"
      ]
     },
     "execution_count": 14,
     "metadata": {},
     "output_type": "execute_result"
    }
   ],
   "source": [
    "df_bedbugs.shape"
   ]
  },
  {
   "cell_type": "markdown",
   "metadata": {},
   "source": [
    "#### Declarations at the same intersection (longitude and latitude)"
   ]
  },
  {
   "cell_type": "code",
   "execution_count": 15,
   "metadata": {},
   "outputs": [
    {
     "name": "stdout",
     "output_type": "stream",
     "text": [
      "4873 longitude and latitude group-locations\n"
     ]
    }
   ],
   "source": [
    "print(str(len(df_bedbugs.groupby(['LONG_LAT'])))\n",
    "      +' longitude and latitude group-locations')"
   ]
  },
  {
   "cell_type": "code",
   "execution_count": 16,
   "metadata": {},
   "outputs": [
    {
     "data": {
      "text/plain": [
       "LONG_LAT\n",
       "-73.484312_45.694138    1\n",
       "-73.485599_45.698515    1\n",
       "-73.487241_45.695382    6\n",
       "-73.487936_45.649078    3\n",
       "-73.489228_45.693533    1\n",
       "Name: NO_DECLARATION, dtype: int64"
      ]
     },
     "execution_count": 16,
     "metadata": {},
     "output_type": "execute_result"
    }
   ],
   "source": [
    "# Count of location : 1 = unique, and not equal to 1 is reoccuring\n",
    "df_bedbugs.groupby(by = 'LONG_LAT')['NO_DECLARATION'].count().head()"
   ]
  },
  {
   "cell_type": "code",
   "execution_count": 17,
   "metadata": {},
   "outputs": [
    {
     "data": {
      "text/plain": [
       "LONG_LAT\n",
       "-73.881748_45.459389            1\n",
       "-73.88297299999999_45.453919    1\n",
       "-73.887183_45.453657            1\n",
       "-73.889477_45.458117            1\n",
       "-73.890405_45.456179            2\n",
       "Name: NO_DECLARATION, dtype: int64"
      ]
     },
     "execution_count": 17,
     "metadata": {},
     "output_type": "execute_result"
    }
   ],
   "source": [
    "df_bedbugs.groupby(by = 'LONG_LAT')['NO_DECLARATION'].count().tail()"
   ]
  },
  {
   "cell_type": "code",
   "execution_count": 18,
   "metadata": {},
   "outputs": [
    {
     "data": {
      "text/html": [
       "<div>\n",
       "<style scoped>\n",
       "    .dataframe tbody tr th:only-of-type {\n",
       "        vertical-align: middle;\n",
       "    }\n",
       "\n",
       "    .dataframe tbody tr th {\n",
       "        vertical-align: top;\n",
       "    }\n",
       "\n",
       "    .dataframe thead th {\n",
       "        text-align: right;\n",
       "    }\n",
       "</style>\n",
       "<table border=\"1\" class=\"dataframe\">\n",
       "  <thead>\n",
       "    <tr style=\"text-align: right;\">\n",
       "      <th></th>\n",
       "      <th>NO_DECLARATION</th>\n",
       "      <th>DATE_DECLARATION</th>\n",
       "      <th>DATE_PRIOR_INSP</th>\n",
       "      <th>EXT_FREQ</th>\n",
       "      <th>DATE_FIRST_EXT</th>\n",
       "      <th>DATE_LAST_EXT</th>\n",
       "      <th>HOOD_NUM</th>\n",
       "      <th>HOOD_NAME</th>\n",
       "      <th>BORO_NAME</th>\n",
       "      <th>MTM8_X</th>\n",
       "      <th>MTM8_Y</th>\n",
       "      <th>LONGITUDE</th>\n",
       "      <th>LATITUDE</th>\n",
       "      <th>LONG_LAT</th>\n",
       "      <th>MTM_X_Y</th>\n",
       "    </tr>\n",
       "  </thead>\n",
       "  <tbody>\n",
       "    <tr>\n",
       "      <th>2729</th>\n",
       "      <td>15213</td>\n",
       "      <td>2014-11-28</td>\n",
       "      <td>2014-11-04</td>\n",
       "      <td>1.00</td>\n",
       "      <td>2014-11-06</td>\n",
       "      <td>2014-11-06</td>\n",
       "      <td>54</td>\n",
       "      <td>Pointe-aux-Trembles</td>\n",
       "      <td>Rivière-des-Prairies–Pointe-aux-Trembles</td>\n",
       "      <td>305793.70</td>\n",
       "      <td>5061722.00</td>\n",
       "      <td>-73.49</td>\n",
       "      <td>45.70</td>\n",
       "      <td>-73.487241_45.695382</td>\n",
       "      <td>305793.7_5061722.0</td>\n",
       "    </tr>\n",
       "    <tr>\n",
       "      <th>8716</th>\n",
       "      <td>15772</td>\n",
       "      <td>2015-01-08</td>\n",
       "      <td>2014-12-29</td>\n",
       "      <td>1.00</td>\n",
       "      <td>2015-01-05</td>\n",
       "      <td>2015-01-05</td>\n",
       "      <td>54</td>\n",
       "      <td>Pointe-aux-Trembles</td>\n",
       "      <td>Rivière-des-Prairies–Pointe-aux-Trembles</td>\n",
       "      <td>305793.70</td>\n",
       "      <td>5061722.00</td>\n",
       "      <td>-73.49</td>\n",
       "      <td>45.70</td>\n",
       "      <td>-73.487241_45.695382</td>\n",
       "      <td>305793.7_5061722.0</td>\n",
       "    </tr>\n",
       "    <tr>\n",
       "      <th>8852</th>\n",
       "      <td>32152</td>\n",
       "      <td>2018-08-02</td>\n",
       "      <td>2018-06-08</td>\n",
       "      <td>1.00</td>\n",
       "      <td>2018-06-08</td>\n",
       "      <td>2018-06-08</td>\n",
       "      <td>54</td>\n",
       "      <td>Pointe-aux-Trembles</td>\n",
       "      <td>Rivière-des-Prairies–Pointe-aux-Trembles</td>\n",
       "      <td>305793.70</td>\n",
       "      <td>5061722.00</td>\n",
       "      <td>-73.49</td>\n",
       "      <td>45.70</td>\n",
       "      <td>-73.487241_45.695382</td>\n",
       "      <td>305793.7_5061722.0</td>\n",
       "    </tr>\n",
       "    <tr>\n",
       "      <th>15665</th>\n",
       "      <td>15393</td>\n",
       "      <td>2014-12-09</td>\n",
       "      <td>2014-11-17</td>\n",
       "      <td>1.00</td>\n",
       "      <td>2014-11-19</td>\n",
       "      <td>2014-11-19</td>\n",
       "      <td>54</td>\n",
       "      <td>Pointe-aux-Trembles</td>\n",
       "      <td>Rivière-des-Prairies–Pointe-aux-Trembles</td>\n",
       "      <td>305793.70</td>\n",
       "      <td>5061722.00</td>\n",
       "      <td>-73.49</td>\n",
       "      <td>45.70</td>\n",
       "      <td>-73.487241_45.695382</td>\n",
       "      <td>305793.7_5061722.0</td>\n",
       "    </tr>\n",
       "    <tr>\n",
       "      <th>18368</th>\n",
       "      <td>33208</td>\n",
       "      <td>2018-10-23</td>\n",
       "      <td>2018-10-19</td>\n",
       "      <td>1.00</td>\n",
       "      <td>2018-10-19</td>\n",
       "      <td>2018-10-19</td>\n",
       "      <td>54</td>\n",
       "      <td>Pointe-aux-Trembles</td>\n",
       "      <td>Rivière-des-Prairies–Pointe-aux-Trembles</td>\n",
       "      <td>305793.70</td>\n",
       "      <td>5061722.00</td>\n",
       "      <td>-73.49</td>\n",
       "      <td>45.70</td>\n",
       "      <td>-73.487241_45.695382</td>\n",
       "      <td>305793.7_5061722.0</td>\n",
       "    </tr>\n",
       "    <tr>\n",
       "      <th>26054</th>\n",
       "      <td>15693</td>\n",
       "      <td>2015-01-06</td>\n",
       "      <td>2014-12-04</td>\n",
       "      <td>1.00</td>\n",
       "      <td>2014-12-08</td>\n",
       "      <td>2014-12-08</td>\n",
       "      <td>54</td>\n",
       "      <td>Pointe-aux-Trembles</td>\n",
       "      <td>Rivière-des-Prairies–Pointe-aux-Trembles</td>\n",
       "      <td>305793.70</td>\n",
       "      <td>5061722.00</td>\n",
       "      <td>-73.49</td>\n",
       "      <td>45.70</td>\n",
       "      <td>-73.487241_45.695382</td>\n",
       "      <td>305793.7_5061722.0</td>\n",
       "    </tr>\n",
       "  </tbody>\n",
       "</table>\n",
       "</div>"
      ],
      "text/plain": [
       "       NO_DECLARATION DATE_DECLARATION DATE_PRIOR_INSP  EXT_FREQ  \\\n",
       "2729            15213       2014-11-28      2014-11-04      1.00   \n",
       "8716            15772       2015-01-08      2014-12-29      1.00   \n",
       "8852            32152       2018-08-02      2018-06-08      1.00   \n",
       "15665           15393       2014-12-09      2014-11-17      1.00   \n",
       "18368           33208       2018-10-23      2018-10-19      1.00   \n",
       "26054           15693       2015-01-06      2014-12-04      1.00   \n",
       "\n",
       "      DATE_FIRST_EXT DATE_LAST_EXT HOOD_NUM            HOOD_NAME  \\\n",
       "2729      2014-11-06    2014-11-06       54  Pointe-aux-Trembles   \n",
       "8716      2015-01-05    2015-01-05       54  Pointe-aux-Trembles   \n",
       "8852      2018-06-08    2018-06-08       54  Pointe-aux-Trembles   \n",
       "15665     2014-11-19    2014-11-19       54  Pointe-aux-Trembles   \n",
       "18368     2018-10-19    2018-10-19       54  Pointe-aux-Trembles   \n",
       "26054     2014-12-08    2014-12-08       54  Pointe-aux-Trembles   \n",
       "\n",
       "                                      BORO_NAME    MTM8_X     MTM8_Y  \\\n",
       "2729   Rivière-des-Prairies–Pointe-aux-Trembles 305793.70 5061722.00   \n",
       "8716   Rivière-des-Prairies–Pointe-aux-Trembles 305793.70 5061722.00   \n",
       "8852   Rivière-des-Prairies–Pointe-aux-Trembles 305793.70 5061722.00   \n",
       "15665  Rivière-des-Prairies–Pointe-aux-Trembles 305793.70 5061722.00   \n",
       "18368  Rivière-des-Prairies–Pointe-aux-Trembles 305793.70 5061722.00   \n",
       "26054  Rivière-des-Prairies–Pointe-aux-Trembles 305793.70 5061722.00   \n",
       "\n",
       "       LONGITUDE  LATITUDE              LONG_LAT             MTM_X_Y  \n",
       "2729      -73.49     45.70  -73.487241_45.695382  305793.7_5061722.0  \n",
       "8716      -73.49     45.70  -73.487241_45.695382  305793.7_5061722.0  \n",
       "8852      -73.49     45.70  -73.487241_45.695382  305793.7_5061722.0  \n",
       "15665     -73.49     45.70  -73.487241_45.695382  305793.7_5061722.0  \n",
       "18368     -73.49     45.70  -73.487241_45.695382  305793.7_5061722.0  \n",
       "26054     -73.49     45.70  -73.487241_45.695382  305793.7_5061722.0  "
      ]
     },
     "execution_count": 18,
     "metadata": {},
     "output_type": "execute_result"
    }
   ],
   "source": [
    "# Verification of reoccuring\n",
    "df_bedbugs[(df_bedbugs['LONGITUDE']==-73.487241) & (df_bedbugs['LATITUDE']==45.695382)]"
   ]
  },
  {
   "cell_type": "code",
   "execution_count": 19,
   "metadata": {},
   "outputs": [
    {
     "data": {
      "text/plain": [
       "NO_DECLARATION      0\n",
       "DATE_DECLARATION    0\n",
       "DATE_PRIOR_INSP     0\n",
       "EXT_FREQ            0\n",
       "DATE_FIRST_EXT      0\n",
       "DATE_LAST_EXT       0\n",
       "HOOD_NUM            0\n",
       "HOOD_NAME           0\n",
       "BORO_NAME           0\n",
       "MTM8_X              0\n",
       "MTM8_Y              0\n",
       "LONGITUDE           0\n",
       "LATITUDE            0\n",
       "MTM_X_Y             0\n",
       "dtype: int64"
      ]
     },
     "execution_count": 19,
     "metadata": {},
     "output_type": "execute_result"
    }
   ],
   "source": [
    "# Verify group for any null values\n",
    "(df_bedbugs.groupby(by = 'LONG_LAT').count()).isnull().sum()"
   ]
  },
  {
   "cell_type": "code",
   "execution_count": 20,
   "metadata": {},
   "outputs": [
    {
     "name": "stdout",
     "output_type": "stream",
     "text": [
      "3395 longitude and latitude reoccuring group-locations\n"
     ]
    }
   ],
   "source": [
    "# Ref. : hhttps://stackoverflow.com/questions/12765833/counting-the-number-of-true-booleans-in-a-python-list\n",
    "\n",
    "# Number of reoccuring locations\n",
    "print(str((df_bedbugs.groupby(by = 'LONG_LAT')['NO_DECLARATION'].count()>1).sum() )\n",
    "    +' longitude and latitude reoccuring group-locations')"
   ]
  },
  {
   "cell_type": "code",
   "execution_count": 21,
   "metadata": {},
   "outputs": [
    {
     "data": {
      "text/plain": [
       "NO_DECLARATION      3395\n",
       "DATE_DECLARATION    3395\n",
       "DATE_PRIOR_INSP     3395\n",
       "EXT_FREQ            3243\n",
       "DATE_FIRST_EXT      3243\n",
       "DATE_LAST_EXT       3243\n",
       "HOOD_NUM            3395\n",
       "HOOD_NAME           3395\n",
       "BORO_NAME           3395\n",
       "MTM8_X              3395\n",
       "MTM8_Y              3395\n",
       "LONGITUDE           3395\n",
       "LATITUDE            3395\n",
       "MTM_X_Y             3395\n",
       "dtype: int64"
      ]
     },
     "execution_count": 21,
     "metadata": {},
     "output_type": "execute_result"
    }
   ],
   "source": [
    "# Number of reoccuring locations, where DATE_FIRST_EXT and DATE_LAST_EXT at times co-inside\n",
    "(df_bedbugs.groupby(by = 'LONG_LAT').count()>1).sum()"
   ]
  },
  {
   "cell_type": "markdown",
   "metadata": {},
   "source": [
    "#### Group of declarations"
   ]
  },
  {
   "cell_type": "code",
   "execution_count": 22,
   "metadata": {},
   "outputs": [
    {
     "ename": "TypeError",
     "evalue": "'DataFrame' object is not callable",
     "output_type": "error",
     "traceback": [
      "\u001b[1;31m---------------------------------------------------------------------------\u001b[0m",
      "\u001b[1;31mTypeError\u001b[0m                                 Traceback (most recent call last)",
      "\u001b[1;32m<ipython-input-22-da5399019e18>\u001b[0m in \u001b[0;36m<module>\u001b[1;34m()\u001b[0m\n\u001b[1;32m----> 1\u001b[1;33m \u001b[0mdf_bedbugs\u001b[0m\u001b[1;33m(\u001b[0m\u001b[1;33m[\u001b[0m\u001b[1;34m'LONGITUDE'\u001b[0m\u001b[1;33m,\u001b[0m\u001b[1;34m'LATITUDE'\u001b[0m\u001b[1;33m]\u001b[0m\u001b[1;33m)\u001b[0m\u001b[1;33m.\u001b[0m\u001b[0msize\u001b[0m\u001b[1;33m(\u001b[0m\u001b[1;33m)\u001b[0m\u001b[1;33m>\u001b[0m\u001b[1;36m4\u001b[0m\u001b[1;33m\u001b[0m\u001b[0m\n\u001b[0m",
      "\u001b[1;31mTypeError\u001b[0m: 'DataFrame' object is not callable"
     ]
    }
   ],
   "source": [
    "df_bedbugs(['LONGITUDE','LATITUDE']).size()>4"
   ]
  },
  {
   "cell_type": "markdown",
   "metadata": {},
   "source": [
    "### Dealing with missing values\n",
    "How to deal with the missing values? Should we remove the rows or fill the gap with a value?"
   ]
  },
  {
   "cell_type": "code",
   "execution_count": 23,
   "metadata": {},
   "outputs": [
    {
     "name": "stdout",
     "output_type": "stream",
     "text": [
      "==================COLUMNS_WITH_MISSING_VALUES==================\n",
      "NO_DECLARATION         0\n",
      "DATE_DECLARATION       0\n",
      "DATE_PRIOR_INSP        8\n",
      "EXT_FREQ            2124\n",
      "DATE_FIRST_EXT      2124\n",
      "DATE_LAST_EXT       2124\n",
      "HOOD_NUM               0\n",
      "HOOD_NAME              0\n",
      "BORO_NAME              0\n",
      "MTM8_X                 0\n",
      "MTM8_Y                 0\n",
      "LONGITUDE              0\n",
      "LATITUDE               0\n",
      "LONG_LAT               0\n",
      "MTM_X_Y                0\n",
      "dtype: int64\n",
      "\n"
     ]
    }
   ],
   "source": [
    "# Number of missing values by columns\n",
    "print('==================COLUMNS_WITH_MISSING_VALUES==================')\n",
    "print(df_bedbugs.isnull().sum())\n",
    "print('')"
   ]
  },
  {
   "cell_type": "markdown",
   "metadata": {},
   "source": [
    "### Removing outliers\n",
    "Some algorithms are very sensitive to outliers. Considering the number of bedrooms, should we remove houses with an extreme number of bedrooms? How many bedrooms are too many? (Suggestion: as a rule of thumb, three standard deviations from the mean is a good measure to identify outliers)."
   ]
  },
  {
   "cell_type": "markdown",
   "metadata": {},
   "source": [
    "# Dealing with outliers\n",
    "houses_to_remove = []\n"
   ]
  },
  {
   "cell_type": "markdown",
   "metadata": {},
   "source": [
    "### Merging Data Sets"
   ]
  },
  {
   "cell_type": "code",
   "execution_count": 24,
   "metadata": {},
   "outputs": [],
   "source": [
    "df_bedbugs_base = df_bedbugs.copy()"
   ]
  },
  {
   "cell_type": "markdown",
   "metadata": {},
   "source": [
    "### Saving the processed file"
   ]
  },
  {
   "cell_type": "code",
   "execution_count": 25,
   "metadata": {},
   "outputs": [],
   "source": [
    "df_bedbugs_base.to_csv('declarations-exterminations-punaises-de-lit-1.csv', index=False)"
   ]
  },
  {
   "cell_type": "code",
   "execution_count": 27,
   "metadata": {},
   "outputs": [
    {
     "name": "stdout",
     "output_type": "stream",
     "text": [
      "NO_DECLARATION               int64\n",
      "DATE_DECLARATION    datetime64[ns]\n",
      "DATE_PRIOR_INSP     datetime64[ns]\n",
      "EXT_FREQ                   float64\n",
      "DATE_FIRST_EXT      datetime64[ns]\n",
      "DATE_LAST_EXT       datetime64[ns]\n",
      "HOOD_NUM                    object\n",
      "HOOD_NAME                   object\n",
      "BORO_NAME                   object\n",
      "MTM8_X                     float64\n",
      "MTM8_Y                     float64\n",
      "LONGITUDE                  float64\n",
      "LATITUDE                   float64\n",
      "LONG_LAT                    object\n",
      "MTM_X_Y                     object\n",
      "dtype: object\n"
     ]
    }
   ],
   "source": [
    "print(df_bedbugs_base.dtypes)"
   ]
  },
  {
   "cell_type": "code",
   "execution_count": null,
   "metadata": {},
   "outputs": [],
   "source": []
  }
 ],
 "metadata": {
  "anaconda-cloud": {},
  "kernelspec": {
   "display_name": "Python 3",
   "language": "python",
   "name": "python3"
  },
  "language_info": {
   "codemirror_mode": {
    "name": "ipython",
    "version": 3
   },
   "file_extension": ".py",
   "mimetype": "text/x-python",
   "name": "python",
   "nbconvert_exporter": "python",
   "pygments_lexer": "ipython3",
   "version": "3.6.4"
  }
 },
 "nbformat": 4,
 "nbformat_minor": 1
}
