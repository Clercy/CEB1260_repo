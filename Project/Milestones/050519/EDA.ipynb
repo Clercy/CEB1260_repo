{
 "cells": [
  {
   "cell_type": "markdown",
   "metadata": {},
   "source": [
    "# Exploratory Data Analysis (EDA) (Notebook 1_Week 3 Deliverable_Part2)"
   ]
  },
  {
   "cell_type": "markdown",
   "metadata": {},
   "source": [
    "#### Import libraries"
   ]
  },
  {
   "cell_type": "code",
   "execution_count": 1,
   "metadata": {},
   "outputs": [],
   "source": [
    "# import the library\n",
    "%matplotlib inline\n",
    "\n",
    "import pandas as pd\n",
    "import numpy as np\n",
    "import scipy\n",
    "import matplotlib.pyplot as plt\n",
    "\n",
    "# the more advanced python visualization library\n",
    "import seaborn as sns\n",
    "\n",
    "# apply style to all the charts\n",
    "sns.set_style('whitegrid')\n",
    "\n",
    "# convert scientific notation to decimals\n",
    "pd.set_option('display.float_format', lambda x: '%.2f' % x)"
   ]
  },
  {
   "cell_type": "markdown",
   "metadata": {},
   "source": [
    "#### Loading the Cleaned files"
   ]
  },
  {
   "cell_type": "code",
   "execution_count": 2,
   "metadata": {},
   "outputs": [],
   "source": [
    "# Load the data\n",
    "df = pd.read_csv('declarations-exterminations-punaises-de-lit-1.csv')"
   ]
  },
  {
   "cell_type": "markdown",
   "metadata": {},
   "source": [
    "#### Verify Datatype and make modifications"
   ]
  },
  {
   "cell_type": "code",
   "execution_count": 3,
   "metadata": {},
   "outputs": [
    {
     "name": "stdout",
     "output_type": "stream",
     "text": [
      "NO_DECLARATION        int64\n",
      "DATE_DECLARATION     object\n",
      "DATE_PRIOR_INSP      object\n",
      "EXT_FREQ            float64\n",
      "DATE_FIRST_EXT       object\n",
      "DATE_LAST_EXT        object\n",
      "HOOD_NUM             object\n",
      "HOOD_NAME            object\n",
      "BORO_NAME            object\n",
      "MTM8_X              float64\n",
      "MTM8_Y              float64\n",
      "LONGITUDE           float64\n",
      "LATITUDE            float64\n",
      "LONG_LAT             object\n",
      "MTM_X_Y              object\n",
      "dtype: object\n"
     ]
    }
   ],
   "source": [
    "print(df.dtypes)"
   ]
  },
  {
   "cell_type": "code",
   "execution_count": 4,
   "metadata": {},
   "outputs": [],
   "source": [
    "# Convert 'DATE_INSP_VISPRE', 'DATE_DEBUTTRAIT', and 'DATE_FINTRAIT'\n",
    "df['DATE_PRIOR_INSP'] = pd.to_datetime(df['DATE_PRIOR_INSP'])\n",
    "df['DATE_FIRST_EXT'] = pd.to_datetime(df['DATE_FIRST_EXT'])\n",
    "df['DATE_LAST_EXT'] = pd.to_datetime(df['DATE_LAST_EXT'])\n",
    "df['DATE_DECLARATION'] = pd.to_datetime(df['DATE_DECLARATION'])"
   ]
  },
  {
   "cell_type": "markdown",
   "metadata": {},
   "source": [
    "#### Difference between Declaration and Inspection Dates"
   ]
  },
  {
   "cell_type": "code",
   "execution_count": 5,
   "metadata": {},
   "outputs": [],
   "source": [
    "# Ref.: https://docs.scipy.org/doc/numpy/reference/arrays.datetime.html\n",
    "\n",
    "# Create difference between Declaration and Inspection\n",
    "df['DATE_DIFF'] = round( (df['DATE_DECLARATION'] - df['DATE_PRIOR_INSP'] ) / np.timedelta64(1,'D') )\n",
    "\n",
    "#df['DATE_DIFF'].fillna(0, inplace=True)"
   ]
  },
  {
   "cell_type": "code",
   "execution_count": 12,
   "metadata": {},
   "outputs": [
    {
     "name": "stdout",
     "output_type": "stream",
     "text": [
      "0   37.00\n",
      "1   65.00\n",
      "2    6.00\n",
      "3    1.00\n",
      "4   40.00\n",
      "Name: DATE_DIFF, dtype: float64\n"
     ]
    }
   ],
   "source": [
    "print(df['DATE_DIFF'].head())"
   ]
  },
  {
   "cell_type": "code",
   "execution_count": 13,
   "metadata": {},
   "outputs": [
    {
     "name": "stdout",
     "output_type": "stream",
     "text": [
      "33360    9.00\n",
      "33361   21.00\n",
      "33362   13.00\n",
      "33363    6.00\n",
      "33364    3.00\n",
      "Name: DATE_DIFF, dtype: float64\n"
     ]
    }
   ],
   "source": [
    "print(df['DATE_DIFF'].tail())"
   ]
  },
  {
   "cell_type": "markdown",
   "metadata": {},
   "source": [
    "#### Create Columns"
   ]
  },
  {
   "cell_type": "code",
   "execution_count": 6,
   "metadata": {},
   "outputs": [],
   "source": [
    "# Create a column extracting month\n",
    "df['DEC_MONTH'] = pd.DatetimeIndex(df['DATE_DECLARATION']).month\n",
    "\n",
    "# Create Declared Incidents column for regression purposes\n",
    "df['DEC_ISSUE'] = 1"
   ]
  },
  {
   "cell_type": "markdown",
   "metadata": {},
   "source": [
    "#### Populate blank values in EXT_FREQ "
   ]
  },
  {
   "cell_type": "code",
   "execution_count": null,
   "metadata": {},
   "outputs": [],
   "source": [
    "# Populate blanks with DATE_DECLARATION date and not time\n",
    "\n",
    "df['DATE_FIRST_EXT'] = df['DATE_FIRST_EXT'].fillna(df['DATE_DECLARATION'].dt.date)"
   ]
  },
  {
   "cell_type": "code",
   "execution_count": 15,
   "metadata": {},
   "outputs": [
    {
     "name": "stdout",
     "output_type": "stream",
     "text": [
      "==================TYPES==================\n",
      "NO_DECLARATION        int64\n",
      "DATE_DECLARATION     object\n",
      "DATE_PRIOR_INSP      object\n",
      "EXT_FREQ            float64\n",
      "DATE_FIRST_EXT       object\n",
      "DATE_LAST_EXT        object\n",
      "HOOD_NUM             object\n",
      "HOOD_NAME            object\n",
      "BORO_NAME            object\n",
      "MTM8_X              float64\n",
      "MTM8_Y              float64\n",
      "LONGITUDE           float64\n",
      "LATITUDE            float64\n",
      "LONG_LAT             object\n",
      "MTM_X_Y              object\n",
      "DEC_MONTH             int64\n",
      "DEC_ISSUE             int64\n",
      "dtype: object\n",
      "\n",
      "==================NULL_VALUES==================\n",
      "NO_DECLARATION         0\n",
      "DATE_DECLARATION       0\n",
      "DATE_PRIOR_INSP        8\n",
      "EXT_FREQ               0\n",
      "DATE_FIRST_EXT      2124\n",
      "DATE_LAST_EXT       2124\n",
      "HOOD_NUM               0\n",
      "HOOD_NAME              0\n",
      "BORO_NAME              0\n",
      "MTM8_X                 0\n",
      "MTM8_Y                 0\n",
      "LONGITUDE              0\n",
      "LATITUDE               0\n",
      "LONG_LAT               0\n",
      "MTM_X_Y                0\n",
      "DEC_MONTH              0\n",
      "DEC_ISSUE              0\n",
      "dtype: int64\n"
     ]
    }
   ],
   "source": [
    "print('==================TYPES==================')\n",
    "print(df.dtypes)\n",
    "print('')\n",
    "print('==================NULL_VALUES==================')\n",
    "# Check for null values\n",
    "print(df.isnull().sum())"
   ]
  },
  {
   "cell_type": "markdown",
   "metadata": {},
   "source": [
    "#### Populate blank values in EXT_FREQ "
   ]
  },
  {
   "cell_type": "code",
   "execution_count": 14,
   "metadata": {},
   "outputs": [],
   "source": [
    "# Populate blank values in EXT_FREQ \n",
    "df['EXT_FREQ'].fillna(1, inplace=True)"
   ]
  },
  {
   "cell_type": "code",
   "execution_count": 15,
   "metadata": {},
   "outputs": [],
   "source": [
    "################################################\n",
    "# Last section to work on.  Then can proceed to generate regression or whatever else you would like to do.\n",
    "\n",
    "#df['DATE_FIRST_EXT'].fillna(df['DATE_DECLARATION'].dt.date)\n",
    "\n",
    "#print('here ' + str(df['DATE_DECLARATION'].dt.date))\n",
    "#print(df['DATE_DECLARATION'].dt.date)\n",
    "\n",
    "# Not replacing the NAN fields\n",
    "#df['DATE_FIRST_EXT'].fillna(pd.to_datetime(df['DATE_DECLARATION']).date(), inplace=True)\n",
    "\n",
    "#df['DATE_FIRST_EXT'].fillna(df['DATE_DECLARATION'], inplace=True)\n",
    "#pd.to_datetime(df['DATE_DECLARATION']).date()\n",
    "#df['DATE_FIRST_EXT'].fillna(pd.to_datetime(df['DATE_DECLARATION']).date(), inplace=True)\n",
    "#print(pd.to_datetime(df['DATE_DECLARATION']).date())\n",
    "#pd.DatetimeIndex(df['DATE_DECLARATION']).year + '-' + pd.DatetimeIndex(df['DATE_DECLARATION']).month + '-' + pd.DatetimeIndex(df['DATE_DECLARATION']).day\n",
    "\n",
    "\n",
    "#print(df['DATE_FIRST_EXT'])\n",
    "\n",
    "# To be populated by the difference of the 2 fields afterwhich we can perform regression testing\n",
    "# on fields DATE_DEC_FIRST, DECLARED, DATE_DIFF, EXT_FREQ\n",
    "#df['DATE_DEC_FIRST'] = round((df['DATE_DECLARATION'] - df['DATE_FIRST_EXT'])/np.timedelta64(1,'D'))\n",
    "####################################################\n"
   ]
  },
  {
   "cell_type": "markdown",
   "metadata": {},
   "source": [
    "#### Populate blanks with DATE_DECLARATION date"
   ]
  },
  {
   "cell_type": "code",
   "execution_count": 16,
   "metadata": {},
   "outputs": [],
   "source": [
    "# Populate blanks with DATE_DECLARATION date\n",
    "df['DATE_FIRST_EXT'] = df['DATE_FIRST_EXT'].fillna(df['DATE_DECLARATION'].dt.date)"
   ]
  },
  {
   "cell_type": "markdown",
   "metadata": {},
   "source": [
    "#### Dataframe summary"
   ]
  },
  {
   "cell_type": "code",
   "execution_count": 17,
   "metadata": {},
   "outputs": [
    {
     "name": "stdout",
     "output_type": "stream",
     "text": [
      "Bed bug extermination declarations\n",
      "\n",
      "==================COLUMNS==================\n",
      "Index(['NO_DECLARATION', 'DATE_DECLARATION', 'DATE_PRIOR_INSP', 'EXT_FREQ',\n",
      "       'DATE_FIRST_EXT', 'DATE_LAST_EXT', 'HOOD_NUM', 'HOOD_NAME', 'BORO_NAME',\n",
      "       'MTM8_X', 'MTM8_Y', 'LONGITUDE', 'LATITUDE', 'LONG_LAT', 'MTM_X_Y',\n",
      "       'DATE_DIFF', 'DEC_MONTH', 'DEC_ISSUE'],\n",
      "      dtype='object')\n",
      "\n",
      "==================HEAD==================\n",
      "   NO_DECLARATION DATE_DECLARATION DATE_PRIOR_INSP  EXT_FREQ  \\\n",
      "0            4254       2012-10-28      2012-09-21      1.00   \n",
      "1             830       2011-09-16      2011-07-13      1.00   \n",
      "2            1380       2011-11-08      2011-11-02      1.00   \n",
      "3             455       2011-08-10      2011-08-09      1.00   \n",
      "4            1243       2011-10-26      2011-09-16      1.00   \n",
      "\n",
      "        DATE_FIRST_EXT DATE_LAST_EXT HOOD_NUM      HOOD_NAME  \\\n",
      "0  2012-09-21 00:00:00    2012-09-21       24     Beaurivage   \n",
      "1  2011-07-27 00:00:00    2011-08-17       50    Saint-Henri   \n",
      "2  2011-11-07 00:00:00    2011-11-21       30   Sainte-Marie   \n",
      "3  2011-08-09 00:00:00    2011-08-09       44  Upper Lachine   \n",
      "4  2011-10-05 00:00:00    2011-10-05       19    Petite-Côte   \n",
      "\n",
      "                             BORO_NAME    MTM8_X     MTM8_Y  LONGITUDE  \\\n",
      "0        Mercier–Hochelaga-Maisonneuve 303753.60 5049835.70     -73.51   \n",
      "1                         Le Sud-Ouest 298119.80 5036963.70     -73.59   \n",
      "2                          Ville-Marie 300294.90 5042372.10     -73.56   \n",
      "3  Côte-des-Neiges–Notre-Dame-de-Grâce 296046.90 5036494.90     -73.61   \n",
      "4            Rosemont–La Petite-Patrie 299524.20 5045639.90     -73.57   \n",
      "\n",
      "   LATITUDE                      LONG_LAT             MTM_X_Y  DATE_DIFF  \\\n",
      "0     45.59          -73.513411_45.588426  303753.6_5049835.7      37.00   \n",
      "1     45.47          -73.585437_45.472569  298119.8_5036963.7      65.00   \n",
      "2     45.52          -73.557668_45.521253  300294.9_5042372.1       6.00   \n",
      "3     45.47          -73.611941_45.468327  296046.9_5036494.9       1.00   \n",
      "4     45.55  -73.56756899999999_45.550652  299524.2_5045639.9      40.00   \n",
      "\n",
      "   DEC_MONTH  DEC_ISSUE  \n",
      "0         10          1  \n",
      "1          9          1  \n",
      "2         11          1  \n",
      "3          8          1  \n",
      "4         10          1  \n",
      "\n",
      "==================DESCRIBE==================\n",
      "       NO_DECLARATION  EXT_FREQ    MTM8_X     MTM8_Y  LONGITUDE  LATITUDE  \\\n",
      "count        33365.00  33365.00  33365.00   33365.00   33365.00  33365.00   \n",
      "mean         17119.47      1.46 297055.28 5044088.86     -73.60     45.54   \n",
      "std           9819.57      0.89   3664.67    4756.57       0.05      0.04   \n",
      "min            104.00      1.00 274266.10 5030733.00     -73.89     45.42   \n",
      "25%           8602.00      1.00 294841.50 5041950.60     -73.63     45.52   \n",
      "50%          17099.00      1.00 297627.30 5044129.10     -73.59     45.54   \n",
      "75%          25632.00      2.00 299638.40 5046434.50     -73.57     45.56   \n",
      "max          34130.00      4.00 306021.80 5062070.20     -73.48     45.70   \n",
      "\n",
      "       DATE_DIFF  DEC_MONTH  DEC_ISSUE  \n",
      "count   33357.00   33365.00   33365.00  \n",
      "mean       37.33       7.13       1.00  \n",
      "std        78.70       3.33       0.00  \n",
      "min      -348.00       1.00       1.00  \n",
      "25%         6.00       4.00       1.00  \n",
      "50%        15.00       8.00       1.00  \n",
      "75%        39.00      10.00       1.00  \n",
      "max      3737.00      12.00       1.00  \n"
     ]
    }
   ],
   "source": [
    "#print(df.shape)\n",
    "\n",
    "print('Bed bug extermination declarations')\n",
    "print('')\n",
    "print('==================COLUMNS==================')\n",
    "print(df.columns)\n",
    "print('')\n",
    "print('==================HEAD==================')\n",
    "print(df.head())\n",
    "print('')\n",
    "print('==================DESCRIBE==================')\n",
    "print(df.describe())"
   ]
  },
  {
   "cell_type": "code",
   "execution_count": 18,
   "metadata": {},
   "outputs": [
    {
     "name": "stdout",
     "output_type": "stream",
     "text": [
      "==================BORO_VALUE_COUNT==================\n",
      "Rosemont–La Petite-Patrie                   4320\n",
      "Villeray–Saint-Michel–Parc-Extension        4304\n",
      "Mercier–Hochelaga-Maisonneuve               4036\n",
      "Le Plateau-Mont-Royal                       3696\n",
      "Ville-Marie                                 3347\n",
      "Côte-des-Neiges–Notre-Dame-de-Grâce         2909\n",
      "Ahuntsic-Cartierville                       2695\n",
      "Montréal-Nord                               1754\n",
      "Le Sud-Ouest                                1251\n",
      "Saint-Laurent                               1116\n",
      "Saint-Léonard                                994\n",
      "Verdun                                       782\n",
      "Rivière-des-Prairies–Pointe-aux-Trembles     695\n",
      "LaSalle                                      521\n",
      "Lachine                                      361\n",
      "Anjou                                        304\n",
      "Outremont                                    145\n",
      "Pierrefonds-Roxboro                          117\n",
      "L'Île-Bizard–Sainte-Geneviève                 18\n",
      "Name: BORO_NAME, dtype: int64\n",
      "\n",
      "==================ANALYSIS==================\n",
      "max: 4320\n",
      "min: 18\n",
      "sum: 33365\n",
      "mean: 1756.0526315789473\n",
      "mean: 1756.05\n",
      "std: 1521.2930951793749\n",
      "std: 1521.29\n",
      "median: 1116.0\n",
      "count: 19\n"
     ]
    }
   ],
   "source": [
    "print('==================BORO_VALUE_COUNT==================')\n",
    "print(df['BORO_NAME'].value_counts())\n",
    "print('')\n",
    "print('==================ANALYSIS==================')\n",
    "print('max:',np.max(df['BORO_NAME'].value_counts()))\n",
    "print('min:',np.min(df['BORO_NAME'].value_counts()))\n",
    "print('sum:',np.sum(df['BORO_NAME'].value_counts()))\n",
    "print('mean:',np.mean(df['BORO_NAME'].value_counts()))\n",
    "print('mean:',np.round(np.mean(df['BORO_NAME'].value_counts()),2))\n",
    "print('std:',np.std(df['BORO_NAME'].value_counts()))\n",
    "print('std:',np.round(np.std(df['BORO_NAME'].value_counts()),2))\n",
    "print('median:',np.median(df['BORO_NAME'].value_counts()))\n",
    "print ('count:',df['BORO_NAME'].value_counts().count())"
   ]
  },
  {
   "cell_type": "code",
   "execution_count": 19,
   "metadata": {},
   "outputs": [
    {
     "name": "stdout",
     "output_type": "stream",
     "text": [
      "==================CORR==================\n",
      "Corr:                 NO_DECLARATION  EXT_FREQ  MTM8_X  MTM8_Y  LONGITUDE  LATITUDE  \\\n",
      "NO_DECLARATION            1.00     -0.05   -0.05   -0.00      -0.05     -0.00   \n",
      "EXT_FREQ                 -0.05      1.00    0.02    0.01       0.02      0.01   \n",
      "MTM8_X                   -0.05      0.02    1.00    0.22       1.00      0.22   \n",
      "MTM8_Y                   -0.00      0.01    0.22    1.00       0.22      1.00   \n",
      "LONGITUDE                -0.05      0.02    1.00    0.22       1.00      0.22   \n",
      "LATITUDE                 -0.00      0.01    0.22    1.00       0.22      1.00   \n",
      "DATE_DIFF                 0.11     -0.03   -0.07    0.01      -0.07      0.01   \n",
      "DEC_MONTH                 0.08     -0.05   -0.00    0.02      -0.00      0.02   \n",
      "DEC_ISSUE                  nan       nan     nan     nan        nan       nan   \n",
      "\n",
      "                DATE_DIFF  DEC_MONTH  DEC_ISSUE  \n",
      "NO_DECLARATION       0.11       0.08        nan  \n",
      "EXT_FREQ            -0.03      -0.05        nan  \n",
      "MTM8_X              -0.07      -0.00        nan  \n",
      "MTM8_Y               0.01       0.02        nan  \n",
      "LONGITUDE           -0.07      -0.00        nan  \n",
      "LATITUDE             0.01       0.02        nan  \n",
      "DATE_DIFF            1.00       0.05        nan  \n",
      "DEC_MONTH            0.05       1.00        nan  \n",
      "DEC_ISSUE             nan        nan        nan  \n"
     ]
    }
   ],
   "source": [
    "print('==================CORR==================')\n",
    "print('Corr:',df.corr())"
   ]
  },
  {
   "cell_type": "markdown",
   "metadata": {},
   "source": [
    "## Data Perspective\n",
    "- One variable\n",
    "    - Numeric variables\n",
    "        - continuous: average income\n",
    "        - discrete: population\n",
    "    - Categorical variables\n",
    "        - ordinal: grade\n",
    "        - nominal: house, apartment, townhouse, etc.\n",
    "- Multiple variables\n",
    "    - Numeric x Numeric\n",
    "    - Categorical x Numeric\n",
    "    - Categorical x Categorical"
   ]
  },
  {
   "cell_type": "markdown",
   "metadata": {},
   "source": [
    "## One Variable (numeric)"
   ]
  },
  {
   "cell_type": "code",
   "execution_count": 38,
   "metadata": {},
   "outputs": [
    {
     "name": "stdout",
     "output_type": "stream",
     "text": [
      "==================DESCRIBE==================\n",
      "count   33357.00\n",
      "mean       37.00\n",
      "std        79.00\n",
      "min      -348.00\n",
      "25%         6.00\n",
      "50%        15.00\n",
      "75%        39.00\n",
      "max      3737.00\n",
      "Name: DATE_DIFF, dtype: float64\n",
      "\n"
     ]
    },
    {
     "name": "stderr",
     "output_type": "stream",
     "text": [
      "C:\\Users\\outpost\\Anaconda3\\lib\\site-packages\\numpy\\core\\_methods.py:29: RuntimeWarning: invalid value encountered in reduce\n",
      "  return umr_minimum(a, axis, None, out, keepdims)\n",
      "C:\\Users\\outpost\\Anaconda3\\lib\\site-packages\\numpy\\core\\_methods.py:26: RuntimeWarning: invalid value encountered in reduce\n",
      "  return umr_maximum(a, axis, None, out, keepdims)\n"
     ]
    },
    {
     "ename": "ValueError",
     "evalue": "max must be larger than min in range parameter.",
     "output_type": "error",
     "traceback": [
      "\u001b[1;31m---------------------------------------------------------------------------\u001b[0m",
      "\u001b[1;31mValueError\u001b[0m                                Traceback (most recent call last)",
      "\u001b[1;32m<ipython-input-38-0969653b74ab>\u001b[0m in \u001b[0;36m<module>\u001b[1;34m()\u001b[0m\n\u001b[0;32m      5\u001b[0m \u001b[0mprint\u001b[0m\u001b[1;33m(\u001b[0m\u001b[0mdf\u001b[0m\u001b[1;33m[\u001b[0m\u001b[1;34m'DATE_DIFF'\u001b[0m\u001b[1;33m]\u001b[0m\u001b[1;33m.\u001b[0m\u001b[0mdescribe\u001b[0m\u001b[1;33m(\u001b[0m\u001b[1;33m)\u001b[0m\u001b[1;33m.\u001b[0m\u001b[0mround\u001b[0m\u001b[1;33m(\u001b[0m\u001b[1;33m)\u001b[0m\u001b[1;33m)\u001b[0m\u001b[1;33m\u001b[0m\u001b[0m\n\u001b[0;32m      6\u001b[0m \u001b[0mprint\u001b[0m\u001b[1;33m(\u001b[0m\u001b[1;34m''\u001b[0m\u001b[1;33m)\u001b[0m\u001b[1;33m\u001b[0m\u001b[0m\n\u001b[1;32m----> 7\u001b[1;33m \u001b[0mplt\u001b[0m\u001b[1;33m.\u001b[0m\u001b[0mhist\u001b[0m\u001b[1;33m(\u001b[0m\u001b[0mdf\u001b[0m\u001b[1;33m[\u001b[0m\u001b[1;34m'DATE_DIFF'\u001b[0m\u001b[1;33m]\u001b[0m\u001b[1;33m,\u001b[0m \u001b[0mbins\u001b[0m\u001b[1;33m=\u001b[0m\u001b[1;36m4000\u001b[0m\u001b[1;33m)\u001b[0m\u001b[1;33m\u001b[0m\u001b[0m\n\u001b[0m\u001b[0;32m      8\u001b[0m \u001b[0mplt\u001b[0m\u001b[1;33m.\u001b[0m\u001b[0mshow\u001b[0m\u001b[1;33m(\u001b[0m\u001b[1;33m)\u001b[0m\u001b[1;33m\u001b[0m\u001b[0m\n\u001b[0;32m      9\u001b[0m \u001b[1;33m\u001b[0m\u001b[0m\n",
      "\u001b[1;32m~\\Anaconda3\\lib\\site-packages\\matplotlib\\pyplot.py\u001b[0m in \u001b[0;36mhist\u001b[1;34m(x, bins, range, density, weights, cumulative, bottom, histtype, align, orientation, rwidth, log, color, label, stacked, normed, hold, data, **kwargs)\u001b[0m\n\u001b[0;32m   3023\u001b[0m                       \u001b[0mhisttype\u001b[0m\u001b[1;33m=\u001b[0m\u001b[0mhisttype\u001b[0m\u001b[1;33m,\u001b[0m \u001b[0malign\u001b[0m\u001b[1;33m=\u001b[0m\u001b[0malign\u001b[0m\u001b[1;33m,\u001b[0m \u001b[0morientation\u001b[0m\u001b[1;33m=\u001b[0m\u001b[0morientation\u001b[0m\u001b[1;33m,\u001b[0m\u001b[1;33m\u001b[0m\u001b[0m\n\u001b[0;32m   3024\u001b[0m                       \u001b[0mrwidth\u001b[0m\u001b[1;33m=\u001b[0m\u001b[0mrwidth\u001b[0m\u001b[1;33m,\u001b[0m \u001b[0mlog\u001b[0m\u001b[1;33m=\u001b[0m\u001b[0mlog\u001b[0m\u001b[1;33m,\u001b[0m \u001b[0mcolor\u001b[0m\u001b[1;33m=\u001b[0m\u001b[0mcolor\u001b[0m\u001b[1;33m,\u001b[0m \u001b[0mlabel\u001b[0m\u001b[1;33m=\u001b[0m\u001b[0mlabel\u001b[0m\u001b[1;33m,\u001b[0m\u001b[1;33m\u001b[0m\u001b[0m\n\u001b[1;32m-> 3025\u001b[1;33m                       stacked=stacked, normed=normed, data=data, **kwargs)\n\u001b[0m\u001b[0;32m   3026\u001b[0m     \u001b[1;32mfinally\u001b[0m\u001b[1;33m:\u001b[0m\u001b[1;33m\u001b[0m\u001b[0m\n\u001b[0;32m   3027\u001b[0m         \u001b[0max\u001b[0m\u001b[1;33m.\u001b[0m\u001b[0m_hold\u001b[0m \u001b[1;33m=\u001b[0m \u001b[0mwashold\u001b[0m\u001b[1;33m\u001b[0m\u001b[0m\n",
      "\u001b[1;32m~\\Anaconda3\\lib\\site-packages\\matplotlib\\__init__.py\u001b[0m in \u001b[0;36minner\u001b[1;34m(ax, *args, **kwargs)\u001b[0m\n\u001b[0;32m   1715\u001b[0m                     warnings.warn(msg % (label_namer, func.__name__),\n\u001b[0;32m   1716\u001b[0m                                   RuntimeWarning, stacklevel=2)\n\u001b[1;32m-> 1717\u001b[1;33m             \u001b[1;32mreturn\u001b[0m \u001b[0mfunc\u001b[0m\u001b[1;33m(\u001b[0m\u001b[0max\u001b[0m\u001b[1;33m,\u001b[0m \u001b[1;33m*\u001b[0m\u001b[0margs\u001b[0m\u001b[1;33m,\u001b[0m \u001b[1;33m**\u001b[0m\u001b[0mkwargs\u001b[0m\u001b[1;33m)\u001b[0m\u001b[1;33m\u001b[0m\u001b[0m\n\u001b[0m\u001b[0;32m   1718\u001b[0m         \u001b[0mpre_doc\u001b[0m \u001b[1;33m=\u001b[0m \u001b[0minner\u001b[0m\u001b[1;33m.\u001b[0m\u001b[0m__doc__\u001b[0m\u001b[1;33m\u001b[0m\u001b[0m\n\u001b[0;32m   1719\u001b[0m         \u001b[1;32mif\u001b[0m \u001b[0mpre_doc\u001b[0m \u001b[1;32mis\u001b[0m \u001b[1;32mNone\u001b[0m\u001b[1;33m:\u001b[0m\u001b[1;33m\u001b[0m\u001b[0m\n",
      "\u001b[1;32m~\\Anaconda3\\lib\\site-packages\\matplotlib\\axes\\_axes.py\u001b[0m in \u001b[0;36mhist\u001b[1;34m(***failed resolving arguments***)\u001b[0m\n\u001b[0;32m   6163\u001b[0m             \u001b[1;31m# this will automatically overwrite bins,\u001b[0m\u001b[1;33m\u001b[0m\u001b[1;33m\u001b[0m\u001b[0m\n\u001b[0;32m   6164\u001b[0m             \u001b[1;31m# so that each histogram uses the same bins\u001b[0m\u001b[1;33m\u001b[0m\u001b[1;33m\u001b[0m\u001b[0m\n\u001b[1;32m-> 6165\u001b[1;33m             \u001b[0mm\u001b[0m\u001b[1;33m,\u001b[0m \u001b[0mbins\u001b[0m \u001b[1;33m=\u001b[0m \u001b[0mnp\u001b[0m\u001b[1;33m.\u001b[0m\u001b[0mhistogram\u001b[0m\u001b[1;33m(\u001b[0m\u001b[0mx\u001b[0m\u001b[1;33m[\u001b[0m\u001b[0mi\u001b[0m\u001b[1;33m]\u001b[0m\u001b[1;33m,\u001b[0m \u001b[0mbins\u001b[0m\u001b[1;33m,\u001b[0m \u001b[0mweights\u001b[0m\u001b[1;33m=\u001b[0m\u001b[0mw\u001b[0m\u001b[1;33m[\u001b[0m\u001b[0mi\u001b[0m\u001b[1;33m]\u001b[0m\u001b[1;33m,\u001b[0m \u001b[1;33m**\u001b[0m\u001b[0mhist_kwargs\u001b[0m\u001b[1;33m)\u001b[0m\u001b[1;33m\u001b[0m\u001b[0m\n\u001b[0m\u001b[0;32m   6166\u001b[0m             \u001b[0mm\u001b[0m \u001b[1;33m=\u001b[0m \u001b[0mm\u001b[0m\u001b[1;33m.\u001b[0m\u001b[0mastype\u001b[0m\u001b[1;33m(\u001b[0m\u001b[0mfloat\u001b[0m\u001b[1;33m)\u001b[0m  \u001b[1;31m# causes problems later if it's an int\u001b[0m\u001b[1;33m\u001b[0m\u001b[0m\n\u001b[0;32m   6167\u001b[0m             \u001b[1;32mif\u001b[0m \u001b[0mmlast\u001b[0m \u001b[1;32mis\u001b[0m \u001b[1;32mNone\u001b[0m\u001b[1;33m:\u001b[0m\u001b[1;33m\u001b[0m\u001b[0m\n",
      "\u001b[1;32m~\\Anaconda3\\lib\\site-packages\\numpy\\lib\\function_base.py\u001b[0m in \u001b[0;36mhistogram\u001b[1;34m(a, bins, range, normed, weights, density)\u001b[0m\n\u001b[0;32m    665\u001b[0m     \u001b[1;32mif\u001b[0m \u001b[0mfirst_edge\u001b[0m \u001b[1;33m>\u001b[0m \u001b[0mlast_edge\u001b[0m\u001b[1;33m:\u001b[0m\u001b[1;33m\u001b[0m\u001b[0m\n\u001b[0;32m    666\u001b[0m         raise ValueError(\n\u001b[1;32m--> 667\u001b[1;33m             'max must be larger than min in range parameter.')\n\u001b[0m\u001b[0;32m    668\u001b[0m     \u001b[1;32mif\u001b[0m \u001b[1;32mnot\u001b[0m \u001b[0mnp\u001b[0m\u001b[1;33m.\u001b[0m\u001b[0mall\u001b[0m\u001b[1;33m(\u001b[0m\u001b[0mnp\u001b[0m\u001b[1;33m.\u001b[0m\u001b[0misfinite\u001b[0m\u001b[1;33m(\u001b[0m\u001b[1;33m[\u001b[0m\u001b[0mfirst_edge\u001b[0m\u001b[1;33m,\u001b[0m \u001b[0mlast_edge\u001b[0m\u001b[1;33m]\u001b[0m\u001b[1;33m)\u001b[0m\u001b[1;33m)\u001b[0m\u001b[1;33m:\u001b[0m\u001b[1;33m\u001b[0m\u001b[0m\n\u001b[0;32m    669\u001b[0m         raise ValueError(\n",
      "\u001b[1;31mValueError\u001b[0m: max must be larger than min in range parameter."
     ]
    },
    {
     "data": {
      "image/png": "[encoded data removed]",
      "text/plain": [
       "<matplotlib.figure.Figure at 0xcf74400>"
      ]
     },
     "metadata": {},
     "output_type": "display_data"
    }
   ],
   "source": [
    "# Analyzing number of days between declaration and inspection\n",
    "\n",
    "# Histogram\n",
    "print('==================DESCRIBE==================')\n",
    "print(df['DATE_DIFF'].describe().round())\n",
    "print('')\n",
    "plt.hist(df['DATE_DIFF'], bins=50)\n",
    "plt.show()\n",
    "\n",
    "# Box plot\n",
    "#plt.boxplot(df['DEC_ISSUE'])\n",
    "#plt.xticks([1], df['DEC_ISSUE'], rotation='horizontal')\n",
    "#plt.show()"
   ]
  },
  {
   "cell_type": "code",
   "execution_count": 22,
   "metadata": {},
   "outputs": [],
   "source": [
    "#TODO: Analyze all the numerical variables"
   ]
  },
  {
   "cell_type": "markdown",
   "metadata": {},
   "source": [
    "## One Variable (categorical)"
   ]
  },
  {
   "cell_type": "code",
   "execution_count": 23,
   "metadata": {},
   "outputs": [
    {
     "name": "stdout",
     "output_type": "stream",
     "text": [
      "==================TOP_10_BORO==================\n",
      "Rosemont–La Petite-Patrie               4320\n",
      "Villeray–Saint-Michel–Parc-Extension    4304\n",
      "Mercier–Hochelaga-Maisonneuve           4036\n",
      "Le Plateau-Mont-Royal                   3696\n",
      "Ville-Marie                             3347\n",
      "Côte-des-Neiges–Notre-Dame-de-Grâce     2909\n",
      "Ahuntsic-Cartierville                   2695\n",
      "Montréal-Nord                           1754\n",
      "Le Sud-Ouest                            1251\n",
      "Saint-Laurent                           1116\n",
      "Name: BORO_NAME, dtype: int64\n",
      "\n"
     ]
    },
    {
     "data": {
      "image/png": "[encoded data removed]",
      "text/plain": [
       "<matplotlib.figure.Figure at 0xc5f25f8>"
      ]
     },
     "metadata": {},
     "output_type": "display_data"
    }
   ],
   "source": [
    "# Analyze by borough distribution\n",
    "print('==================TOP_10_BORO==================')\n",
    "print(df['BORO_NAME'].value_counts().head(10))\n",
    "print('')\n",
    "\n",
    "# Bar Chart\n",
    "plt.figure(figsize=(12,6))\n",
    "plt.title('Top 10 Boroughs By Declaration')\n",
    "plt.xlabel('Boroughs')\n",
    "plt.ylabel('Declarations')\n",
    "\n",
    "labels = df['BORO_NAME'].value_counts().head(10).index\n",
    "values = df['BORO_NAME'].value_counts().head(10).values\n",
    "\n",
    "y_pos = range(len(labels))\n",
    "plt.bar(y_pos, values, align='center', alpha=0.5)\n",
    "plt.xticks(y_pos, labels)\n",
    "plt.show()"
   ]
  },
  {
   "cell_type": "code",
   "execution_count": 24,
   "metadata": {},
   "outputs": [],
   "source": [
    "#TODO: Analyze all the categorical variables"
   ]
  },
  {
   "cell_type": "code",
   "execution_count": 25,
   "metadata": {},
   "outputs": [
    {
     "name": "stdout",
     "output_type": "stream",
     "text": [
      "==================BOTTOM_10_BORO==================\n",
      "Saint-Laurent                               1116\n",
      "Saint-Léonard                                994\n",
      "Verdun                                       782\n",
      "Rivière-des-Prairies–Pointe-aux-Trembles     695\n",
      "LaSalle                                      521\n",
      "Lachine                                      361\n",
      "Anjou                                        304\n",
      "Outremont                                    145\n",
      "Pierrefonds-Roxboro                          117\n",
      "L'Île-Bizard–Sainte-Geneviève                 18\n",
      "Name: BORO_NAME, dtype: int64\n",
      "\n"
     ]
    },
    {
     "data": {
      "image/png": "[encoded data removed]",
      "text/plain": [
       "<matplotlib.figure.Figure at 0xc59b198>"
      ]
     },
     "metadata": {},
     "output_type": "display_data"
    }
   ],
   "source": [
    "# Analyze borough distribution\n",
    "print('==================BOTTOM_10_BORO==================')\n",
    "print(df['BORO_NAME'].value_counts().tail(10))\n",
    "print('')\n",
    "\n",
    "# Bar Chart\n",
    "plt.figure(figsize=(12,6))\n",
    "plt.title('Bottom 10 Boroughs By Declaration')\n",
    "plt.xlabel('Boroughs')\n",
    "plt.ylabel('Declarations')\n",
    "\n",
    "labels = df['BORO_NAME'].value_counts().tail(10).index\n",
    "values = df['BORO_NAME'].value_counts().tail(10).values\n",
    "\n",
    "y_pos = range(len(labels))\n",
    "plt.bar(y_pos, values, align='center', alpha=0.5)\n",
    "plt.xticks(y_pos, labels)\n",
    "plt.show()"
   ]
  },
  {
   "cell_type": "code",
   "execution_count": 26,
   "metadata": {},
   "outputs": [
    {
     "name": "stdout",
     "output_type": "stream",
     "text": [
      "==================TOP_10_HOOD==================\n",
      "Sainte-Marie      1730\n",
      "Crémazie          1205\n",
      "Parc-Extension    1171\n",
      "Maisonneuve       1150\n",
      "Lorimier           964\n",
      "Vieux-Rosemont     938\n",
      "Est                866\n",
      "Père-Marquette     800\n",
      "Cartierville       793\n",
      "Montagne           792\n",
      "Name: HOOD_NAME, dtype: int64\n",
      "\n"
     ]
    },
    {
     "data": {
      "image/png": "[encoded data removed]",
      "text/plain": [
       "<matplotlib.figure.Figure at 0xcfee470>"
      ]
     },
     "metadata": {},
     "output_type": "display_data"
    }
   ],
   "source": [
    "# Analyze Neighborhood distribution\n",
    "print('==================TOP_10_HOOD==================')\n",
    "print(df['HOOD_NAME'].value_counts().head(10))\n",
    "print('')\n",
    "\n",
    "# Bar Chart\n",
    "plt.figure(figsize=(12,6))\n",
    "plt.title('Top 10 Neighborhoods By Declaration')\n",
    "plt.xlabel('Neighborhoods')\n",
    "plt.ylabel('Declarations')\n",
    "\n",
    "labels = df['HOOD_NAME'].value_counts().head(10).index\n",
    "values = df['HOOD_NAME'].value_counts().head(10).values\n",
    "\n",
    "y_pos = range(len(labels))\n",
    "plt.bar(y_pos, values, align='center', alpha=0.5)\n",
    "plt.xticks(y_pos, labels)\n",
    "plt.show()"
   ]
  },
  {
   "cell_type": "code",
   "execution_count": 27,
   "metadata": {},
   "outputs": [
    {
     "name": "stdout",
     "output_type": "stream",
     "text": [
      "==================BOTTOM_10_HOOD==================\n",
      "Ville-Émard                      89\n",
      "Du College/Hodge                 79\n",
      "Lachine-Ouest                    76\n",
      "Dutrisac                         65\n",
      "Guybourg                         64\n",
      "Bois-Francs                      48\n",
      "Rivière-des-Prairies             29\n",
      "Pierrefonds-Ouest                21\n",
      "Ile-des-Soeurs                   21\n",
      "L'Île-Bizard–Sainte-Geneviève    18\n",
      "Name: HOOD_NAME, dtype: int64\n",
      "\n"
     ]
    },
    {
     "data": {
      "image/png": "[encoded data removed]",
      "text/plain": [
       "<matplotlib.figure.Figure at 0xd010940>"
      ]
     },
     "metadata": {},
     "output_type": "display_data"
    }
   ],
   "source": [
    "# Analyze Neighborhood distribution\n",
    "print('==================BOTTOM_10_HOOD==================')\n",
    "print(df['HOOD_NAME'].value_counts().tail(10))\n",
    "print('')\n",
    "\n",
    "# Bar Chart\n",
    "plt.figure(figsize=(12,6))\n",
    "plt.title('Bottom 10 Neighborhoods By Declaration')\n",
    "plt.xlabel('Neighborhoods')\n",
    "plt.ylabel('Declarations')\n",
    "\n",
    "labels = df['HOOD_NAME'].value_counts().tail(10).index\n",
    "values = df['HOOD_NAME'].value_counts().tail(10).values\n",
    "\n",
    "y_pos = range(len(labels))\n",
    "plt.bar(y_pos, values, align='center', alpha=0.5)\n",
    "plt.xticks(y_pos, labels)\n",
    "plt.show()"
   ]
  },
  {
   "cell_type": "code",
   "execution_count": 28,
   "metadata": {},
   "outputs": [
    {
     "name": "stdout",
     "output_type": "stream",
     "text": [
      "==================DECLARATION_BY_MONTH_DESC==================\n",
      "10    4022\n",
      "9     3671\n",
      "11    3379\n",
      "7     3217\n",
      "8     3202\n",
      "12    2703\n",
      "6     2552\n",
      "2     2264\n",
      "3     2186\n",
      "5     2069\n",
      "4     2069\n",
      "1     2031\n",
      "Name: DEC_MONTH, dtype: int64\n",
      "\n"
     ]
    },
    {
     "data": {
      "image/png": "[encoded data removed]",
      "text/plain": [
       "<matplotlib.figure.Figure at 0xd09d278>"
      ]
     },
     "metadata": {},
     "output_type": "display_data"
    }
   ],
   "source": [
    "# Analyze Months distribution from declaration\n",
    "print('==================DECLARATION_BY_MONTH_DESC==================')\n",
    "print(df['DEC_MONTH'].value_counts())\n",
    "print('')\n",
    "\n",
    "# Bar Chart\n",
    "plt.figure(figsize=(12,6))\n",
    "plt.title('Declarations by Month')\n",
    "plt.xlabel('Month')\n",
    "plt.ylabel('Declarations')\n",
    "\n",
    "labels = df['DEC_MONTH'].value_counts().head(12).index\n",
    "values = df['DEC_MONTH'].value_counts().head(12).values\n",
    "\n",
    "y_pos = range(len(labels))\n",
    "plt.bar(y_pos, values, align='center', alpha=0.5)\n",
    "plt.xticks(y_pos, labels)\n",
    "plt.show()"
   ]
  },
  {
   "cell_type": "code",
   "execution_count": 29,
   "metadata": {},
   "outputs": [
    {
     "name": "stdout",
     "output_type": "stream",
     "text": [
      "299241.0_5049383.8    264\n",
      "292371.2_5047691.7    181\n",
      "295384.6_5045734.1    151\n",
      "298344.7_5039355.2    148\n",
      "290179.3_5042045.3    139\n",
      "298513.6_5039213.5    136\n",
      "296512.2_5032054.7    116\n",
      "299828.1_5043212.2    114\n",
      "296610.3_5049394.6    107\n",
      "294324.9_5040511.5    101\n",
      "296445.3_5049181.5    100\n",
      "296756.9_5049177.3     96\n",
      "Name: MTM_X_Y, dtype: int64\n"
     ]
    },
    {
     "data": {
      "image/png": "[encoded data removed]",
      "text/plain": [
       "<matplotlib.figure.Figure at 0xd262d30>"
      ]
     },
     "metadata": {},
     "output_type": "display_data"
    }
   ],
   "source": [
    "# Analyze Coordinates distribution from declaration\n",
    "print(df['MTM_X_Y'].value_counts().head(12))\n",
    "\n",
    "# Bar Chart\n",
    "plt.figure(figsize=(12,6))\n",
    "plt.title('Declarations by Coordinates')\n",
    "plt.xlabel('Coordinates')\n",
    "plt.ylabel('Declarations')\n",
    "\n",
    "labels = df['MTM_X_Y'].value_counts().head(10).index\n",
    "values = df['MTM_X_Y'].value_counts().head(10).values\n",
    "\n",
    "y_pos = range(len(labels))\n",
    "plt.bar(y_pos, values, align='center', alpha=0.5)\n",
    "plt.xticks(y_pos, labels)\n",
    "plt.show()\n"
   ]
  },
  {
   "cell_type": "code",
   "execution_count": 30,
   "metadata": {},
   "outputs": [
    {
     "name": "stdout",
     "output_type": "stream",
     "text": [
      "==================TOP_10_INTERSECTIONS_BASED_ON_LONG_LAT==================\n",
      "-73.571239_45.584338                     264\n",
      "-73.659233_45.569024                     181\n",
      "-73.620588_45.551456                     151\n",
      "-73.582592_45.49409                      148\n",
      "-73.68714399999999_45.518173             139\n",
      "-73.58043_45.492816999999995             136\n",
      "-73.60591600000001_45.428377000000005    116\n",
      "-73.563652_45.528809                     114\n",
      "-73.604952_45.58441                      107\n",
      "-73.634049_45.504446                     101\n",
      "-73.607061_45.58249                      100\n",
      "-73.60306800000001_45.582456              96\n",
      "Name: LONG_LAT, dtype: int64\n",
      "\n"
     ]
    },
    {
     "data": {
      "image/png": "[encoded data removed]",
      "text/plain": [
       "<matplotlib.figure.Figure at 0xd29db00>"
      ]
     },
     "metadata": {},
     "output_type": "display_data"
    }
   ],
   "source": [
    "print('==================TOP_10_INTERSECTIONS_BASED_ON_LONG_LAT==================')\n",
    "# Analyze Coordinates distribution from declaration\n",
    "print(df['LONG_LAT'].value_counts().head(12))\n",
    "print('')\n",
    "\n",
    "# Bar Chart\n",
    "plt.figure(figsize=(12,6))\n",
    "plt.title('Declarations by LON_LAT')\n",
    "plt.xlabel('Coordinates')\n",
    "plt.ylabel('Declarations')\n",
    "\n",
    "labels = df['LONG_LAT'].value_counts().head(10).index\n",
    "values = df['LONG_LAT'].value_counts().head(10).values\n",
    "\n",
    "y_pos = range(len(labels))\n",
    "plt.bar(y_pos, values, align='center', alpha=0.5)\n",
    "plt.xticks(y_pos, labels)\n",
    "plt.show()\n"
   ]
  },
  {
   "cell_type": "markdown",
   "metadata": {},
   "source": [
    "## Multiple variables (Numeric x Numeric)"
   ]
  },
  {
   "cell_type": "markdown",
   "metadata": {},
   "source": [
    "#### Correlation"
   ]
  },
  {
   "cell_type": "code",
   "execution_count": 31,
   "metadata": {},
   "outputs": [
    {
     "data": {
      "text/html": [
       "<div>\n",
       "<style scoped>\n",
       "    .dataframe tbody tr th:only-of-type {\n",
       "        vertical-align: middle;\n",
       "    }\n",
       "\n",
       "    .dataframe tbody tr th {\n",
       "        vertical-align: top;\n",
       "    }\n",
       "\n",
       "    .dataframe thead th {\n",
       "        text-align: right;\n",
       "    }\n",
       "</style>\n",
       "<table border=\"1\" class=\"dataframe\">\n",
       "  <thead>\n",
       "    <tr style=\"text-align: right;\">\n",
       "      <th></th>\n",
       "      <th>NO_DECLARATION</th>\n",
       "      <th>EXT_FREQ</th>\n",
       "      <th>MTM8_X</th>\n",
       "      <th>MTM8_Y</th>\n",
       "      <th>LONGITUDE</th>\n",
       "      <th>LATITUDE</th>\n",
       "      <th>DATE_DIFF</th>\n",
       "      <th>DEC_MONTH</th>\n",
       "      <th>DEC_ISSUE</th>\n",
       "    </tr>\n",
       "  </thead>\n",
       "  <tbody>\n",
       "    <tr>\n",
       "      <th>NO_DECLARATION</th>\n",
       "      <td>1.00</td>\n",
       "      <td>-0.05</td>\n",
       "      <td>-0.05</td>\n",
       "      <td>-0.00</td>\n",
       "      <td>-0.05</td>\n",
       "      <td>-0.00</td>\n",
       "      <td>0.11</td>\n",
       "      <td>0.08</td>\n",
       "      <td>nan</td>\n",
       "    </tr>\n",
       "    <tr>\n",
       "      <th>EXT_FREQ</th>\n",
       "      <td>-0.05</td>\n",
       "      <td>1.00</td>\n",
       "      <td>0.02</td>\n",
       "      <td>0.01</td>\n",
       "      <td>0.02</td>\n",
       "      <td>0.01</td>\n",
       "      <td>-0.03</td>\n",
       "      <td>-0.05</td>\n",
       "      <td>nan</td>\n",
       "    </tr>\n",
       "    <tr>\n",
       "      <th>MTM8_X</th>\n",
       "      <td>-0.05</td>\n",
       "      <td>0.02</td>\n",
       "      <td>1.00</td>\n",
       "      <td>0.22</td>\n",
       "      <td>1.00</td>\n",
       "      <td>0.22</td>\n",
       "      <td>-0.07</td>\n",
       "      <td>-0.00</td>\n",
       "      <td>nan</td>\n",
       "    </tr>\n",
       "    <tr>\n",
       "      <th>MTM8_Y</th>\n",
       "      <td>-0.00</td>\n",
       "      <td>0.01</td>\n",
       "      <td>0.22</td>\n",
       "      <td>1.00</td>\n",
       "      <td>0.22</td>\n",
       "      <td>1.00</td>\n",
       "      <td>0.01</td>\n",
       "      <td>0.02</td>\n",
       "      <td>nan</td>\n",
       "    </tr>\n",
       "    <tr>\n",
       "      <th>LONGITUDE</th>\n",
       "      <td>-0.05</td>\n",
       "      <td>0.02</td>\n",
       "      <td>1.00</td>\n",
       "      <td>0.22</td>\n",
       "      <td>1.00</td>\n",
       "      <td>0.22</td>\n",
       "      <td>-0.07</td>\n",
       "      <td>-0.00</td>\n",
       "      <td>nan</td>\n",
       "    </tr>\n",
       "    <tr>\n",
       "      <th>LATITUDE</th>\n",
       "      <td>-0.00</td>\n",
       "      <td>0.01</td>\n",
       "      <td>0.22</td>\n",
       "      <td>1.00</td>\n",
       "      <td>0.22</td>\n",
       "      <td>1.00</td>\n",
       "      <td>0.01</td>\n",
       "      <td>0.02</td>\n",
       "      <td>nan</td>\n",
       "    </tr>\n",
       "    <tr>\n",
       "      <th>DATE_DIFF</th>\n",
       "      <td>0.11</td>\n",
       "      <td>-0.03</td>\n",
       "      <td>-0.07</td>\n",
       "      <td>0.01</td>\n",
       "      <td>-0.07</td>\n",
       "      <td>0.01</td>\n",
       "      <td>1.00</td>\n",
       "      <td>0.05</td>\n",
       "      <td>nan</td>\n",
       "    </tr>\n",
       "    <tr>\n",
       "      <th>DEC_MONTH</th>\n",
       "      <td>0.08</td>\n",
       "      <td>-0.05</td>\n",
       "      <td>-0.00</td>\n",
       "      <td>0.02</td>\n",
       "      <td>-0.00</td>\n",
       "      <td>0.02</td>\n",
       "      <td>0.05</td>\n",
       "      <td>1.00</td>\n",
       "      <td>nan</td>\n",
       "    </tr>\n",
       "    <tr>\n",
       "      <th>DEC_ISSUE</th>\n",
       "      <td>nan</td>\n",
       "      <td>nan</td>\n",
       "      <td>nan</td>\n",
       "      <td>nan</td>\n",
       "      <td>nan</td>\n",
       "      <td>nan</td>\n",
       "      <td>nan</td>\n",
       "      <td>nan</td>\n",
       "      <td>nan</td>\n",
       "    </tr>\n",
       "  </tbody>\n",
       "</table>\n",
       "</div>"
      ],
      "text/plain": [
       "                NO_DECLARATION  EXT_FREQ  MTM8_X  MTM8_Y  LONGITUDE  LATITUDE  \\\n",
       "NO_DECLARATION            1.00     -0.05   -0.05   -0.00      -0.05     -0.00   \n",
       "EXT_FREQ                 -0.05      1.00    0.02    0.01       0.02      0.01   \n",
       "MTM8_X                   -0.05      0.02    1.00    0.22       1.00      0.22   \n",
       "MTM8_Y                   -0.00      0.01    0.22    1.00       0.22      1.00   \n",
       "LONGITUDE                -0.05      0.02    1.00    0.22       1.00      0.22   \n",
       "LATITUDE                 -0.00      0.01    0.22    1.00       0.22      1.00   \n",
       "DATE_DIFF                 0.11     -0.03   -0.07    0.01      -0.07      0.01   \n",
       "DEC_MONTH                 0.08     -0.05   -0.00    0.02      -0.00      0.02   \n",
       "DEC_ISSUE                  nan       nan     nan     nan        nan       nan   \n",
       "\n",
       "                DATE_DIFF  DEC_MONTH  DEC_ISSUE  \n",
       "NO_DECLARATION       0.11       0.08        nan  \n",
       "EXT_FREQ            -0.03      -0.05        nan  \n",
       "MTM8_X              -0.07      -0.00        nan  \n",
       "MTM8_Y               0.01       0.02        nan  \n",
       "LONGITUDE           -0.07      -0.00        nan  \n",
       "LATITUDE             0.01       0.02        nan  \n",
       "DATE_DIFF            1.00       0.05        nan  \n",
       "DEC_MONTH            0.05       1.00        nan  \n",
       "DEC_ISSUE             nan        nan        nan  "
      ]
     },
     "execution_count": 31,
     "metadata": {},
     "output_type": "execute_result"
    }
   ],
   "source": [
    "# Correlation\n",
    "df.corr()"
   ]
  },
  {
   "cell_type": "markdown",
   "metadata": {},
   "source": [
    "#### Heatmap for correlation"
   ]
  },
  {
   "cell_type": "code",
   "execution_count": 32,
   "metadata": {},
   "outputs": [
    {
     "data": {
      "image/png": "[encoded data removed]",
      "text/plain": [
       "<matplotlib.figure.Figure at 0xc593da0>"
      ]
     },
     "metadata": {},
     "output_type": "display_data"
    }
   ],
   "source": [
    "# heatmap\n",
    "corrmat = df.corr()\n",
    "f, ax = plt.subplots(figsize=(10, 7))\n",
    "sns.heatmap(corrmat, vmax=.8, square=True)\n",
    "plt.show()"
   ]
  },
  {
   "cell_type": "code",
   "execution_count": 33,
   "metadata": {},
   "outputs": [],
   "source": [
    "# Visualization : correlation between Price x SQFT\n",
    "\n",
    "#plt.figure(figsize=(10,10))\n",
    "#plt.xlabel('DATE_DIFF')\n",
    "#plt.ylabel('DEC_MONTH')\n",
    "\n",
    "#plt.plot(df['DATE_DIFF'], df['DEC_MONTH'], 'o', alpha=0.3)\n",
    "#plt.show()"
   ]
  },
  {
   "cell_type": "code",
   "execution_count": 34,
   "metadata": {},
   "outputs": [],
   "source": [
    "# TODO: Create a scatterplot Price x Mean Income\n",
    "# TODO: What is the correlation between Price x Mean Income"
   ]
  },
  {
   "cell_type": "markdown",
   "metadata": {},
   "source": [
    "## Multiple variables (Categorical x Numeric)"
   ]
  },
  {
   "cell_type": "code",
   "execution_count": 35,
   "metadata": {},
   "outputs": [
    {
     "name": "stderr",
     "output_type": "stream",
     "text": [
      "C:\\Users\\outpost\\Anaconda3\\lib\\site-packages\\numpy\\lib\\function_base.py:4291: RuntimeWarning: Invalid value encountered in percentile\n",
      "  interpolation=interpolation)\n",
      "C:\\Users\\outpost\\Anaconda3\\lib\\site-packages\\matplotlib\\cbook\\__init__.py:1856: RuntimeWarning: invalid value encountered in less_equal\n",
      "  wiskhi = np.compress(x <= hival, x)\n",
      "C:\\Users\\outpost\\Anaconda3\\lib\\site-packages\\matplotlib\\cbook\\__init__.py:1863: RuntimeWarning: invalid value encountered in greater_equal\n",
      "  wisklo = np.compress(x >= loval, x)\n",
      "C:\\Users\\outpost\\Anaconda3\\lib\\site-packages\\matplotlib\\cbook\\__init__.py:1871: RuntimeWarning: invalid value encountered in less\n",
      "  np.compress(x < stats['whislo'], x),\n",
      "C:\\Users\\outpost\\Anaconda3\\lib\\site-packages\\matplotlib\\cbook\\__init__.py:1872: RuntimeWarning: invalid value encountered in greater\n",
      "  np.compress(x > stats['whishi'], x)\n"
     ]
    },
    {
     "data": {
      "image/png": "[encoded data removed]",
      "text/plain": [
       "<matplotlib.figure.Figure at 0xd323ba8>"
      ]
     },
     "metadata": {},
     "output_type": "display_data"
    }
   ],
   "source": [
    "# Box plot to show the distribution between BOROUGHS x Number days between declaration and inspection\n",
    "values = []\n",
    "labels = []\n",
    "for bdr in sorted(df['BORO_NAME'].unique()):\n",
    "    labels.append(bdr)\n",
    "    values.append(list(df[df['BORO_NAME']==bdr]['DATE_DIFF'].values))\n",
    "\n",
    "plt.boxplot(values)\n",
    "plt.xticks(range(1,len(labels)+1), labels, rotation='horizontal')\n",
    "plt.show()"
   ]
  },
  {
   "cell_type": "markdown",
   "metadata": {},
   "source": [
    "## Multiple variables (Categorical x Categorical)"
   ]
  },
  {
   "cell_type": "markdown",
   "metadata": {},
   "source": [
    "## Business Perspective\n",
    "\"An approximate answer to the right question is worth a great deal more than a precise answer to the wrong question.\" John Tukey"
   ]
  },
  {
   "cell_type": "markdown",
   "metadata": {
    "slideshow": {
     "slide_type": "notes"
    }
   },
   "source": [
    "# Data Persepective"
   ]
  },
  {
   "cell_type": "markdown",
   "metadata": {
    "slideshow": {
     "slide_type": "notes"
    }
   },
   "source": [
    "## One Variable"
   ]
  },
  {
   "cell_type": "markdown",
   "metadata": {},
   "source": [
    "### Categorical"
   ]
  },
  {
   "cell_type": "markdown",
   "metadata": {},
   "source": [
    "There are a few categorical values that we can generate utilizing our data.  This would be counts based on neighborhood (NOM_QR), borough (NOM_ARROND), declaration date (DATE_DECLARATION) and intersection location (COORD_X x COORD_Y) for longitude and latitude.  This would give us different insights on the infestations declared in the various areas of the city. "
   ]
  },
  {
   "cell_type": "code",
   "execution_count": null,
   "metadata": {
    "collapsed": true
   },
   "outputs": [],
   "source": [
    "# Is the grade a good indicator of price?"
   ]
  },
  {
   "cell_type": "code",
   "execution_count": null,
   "metadata": {
    "collapsed": true
   },
   "outputs": [],
   "source": [
    "# Is the walking score a good indicator of price?"
   ]
  },
  {
   "cell_type": "code",
   "execution_count": 28,
   "metadata": {},
   "outputs": [
    {
     "ename": "KeyError",
     "evalue": "\"['bedrooms' 'sqft_living15' 'grade' 'condition'] not in index\"",
     "output_type": "error",
     "traceback": [
      "\u001b[1;31m---------------------------------------------------------------------------\u001b[0m",
      "\u001b[1;31mKeyError\u001b[0m                                  Traceback (most recent call last)",
      "\u001b[1;32m<ipython-input-28-eb5dcd9cf32b>\u001b[0m in \u001b[0;36m<module>\u001b[1;34m()\u001b[0m\n\u001b[0;32m     11\u001b[0m \u001b[1;33m\u001b[0m\u001b[0m\n\u001b[0;32m     12\u001b[0m \u001b[1;31m# Train the model using the training sets\u001b[0m\u001b[1;33m\u001b[0m\u001b[1;33m\u001b[0m\u001b[0m\n\u001b[1;32m---> 13\u001b[1;33m \u001b[0mmodel\u001b[0m\u001b[1;33m.\u001b[0m\u001b[0mfit\u001b[0m\u001b[1;33m(\u001b[0m\u001b[0mdf\u001b[0m\u001b[1;33m[\u001b[0m\u001b[0mcolumns\u001b[0m\u001b[1;33m]\u001b[0m\u001b[1;33m,\u001b[0m \u001b[0mdf\u001b[0m\u001b[1;33m[\u001b[0m\u001b[1;34m'price'\u001b[0m\u001b[1;33m]\u001b[0m\u001b[1;33m)\u001b[0m\u001b[1;33m\u001b[0m\u001b[0m\n\u001b[0m\u001b[0;32m     14\u001b[0m \u001b[1;33m\u001b[0m\u001b[0m\n\u001b[0;32m     15\u001b[0m \u001b[1;31m# Print the Coefficients\u001b[0m\u001b[1;33m\u001b[0m\u001b[1;33m\u001b[0m\u001b[0m\n",
      "\u001b[1;32m~\\Anaconda3\\lib\\site-packages\\pandas\\core\\frame.py\u001b[0m in \u001b[0;36m__getitem__\u001b[1;34m(self, key)\u001b[0m\n\u001b[0;32m   2131\u001b[0m         \u001b[1;32mif\u001b[0m \u001b[0misinstance\u001b[0m\u001b[1;33m(\u001b[0m\u001b[0mkey\u001b[0m\u001b[1;33m,\u001b[0m \u001b[1;33m(\u001b[0m\u001b[0mSeries\u001b[0m\u001b[1;33m,\u001b[0m \u001b[0mnp\u001b[0m\u001b[1;33m.\u001b[0m\u001b[0mndarray\u001b[0m\u001b[1;33m,\u001b[0m \u001b[0mIndex\u001b[0m\u001b[1;33m,\u001b[0m \u001b[0mlist\u001b[0m\u001b[1;33m)\u001b[0m\u001b[1;33m)\u001b[0m\u001b[1;33m:\u001b[0m\u001b[1;33m\u001b[0m\u001b[0m\n\u001b[0;32m   2132\u001b[0m             \u001b[1;31m# either boolean or fancy integer index\u001b[0m\u001b[1;33m\u001b[0m\u001b[1;33m\u001b[0m\u001b[0m\n\u001b[1;32m-> 2133\u001b[1;33m             \u001b[1;32mreturn\u001b[0m \u001b[0mself\u001b[0m\u001b[1;33m.\u001b[0m\u001b[0m_getitem_array\u001b[0m\u001b[1;33m(\u001b[0m\u001b[0mkey\u001b[0m\u001b[1;33m)\u001b[0m\u001b[1;33m\u001b[0m\u001b[0m\n\u001b[0m\u001b[0;32m   2134\u001b[0m         \u001b[1;32melif\u001b[0m \u001b[0misinstance\u001b[0m\u001b[1;33m(\u001b[0m\u001b[0mkey\u001b[0m\u001b[1;33m,\u001b[0m \u001b[0mDataFrame\u001b[0m\u001b[1;33m)\u001b[0m\u001b[1;33m:\u001b[0m\u001b[1;33m\u001b[0m\u001b[0m\n\u001b[0;32m   2135\u001b[0m             \u001b[1;32mreturn\u001b[0m \u001b[0mself\u001b[0m\u001b[1;33m.\u001b[0m\u001b[0m_getitem_frame\u001b[0m\u001b[1;33m(\u001b[0m\u001b[0mkey\u001b[0m\u001b[1;33m)\u001b[0m\u001b[1;33m\u001b[0m\u001b[0m\n",
      "\u001b[1;32m~\\Anaconda3\\lib\\site-packages\\pandas\\core\\frame.py\u001b[0m in \u001b[0;36m_getitem_array\u001b[1;34m(self, key)\u001b[0m\n\u001b[0;32m   2175\u001b[0m             \u001b[1;32mreturn\u001b[0m \u001b[0mself\u001b[0m\u001b[1;33m.\u001b[0m\u001b[0m_take\u001b[0m\u001b[1;33m(\u001b[0m\u001b[0mindexer\u001b[0m\u001b[1;33m,\u001b[0m \u001b[0maxis\u001b[0m\u001b[1;33m=\u001b[0m\u001b[1;36m0\u001b[0m\u001b[1;33m,\u001b[0m \u001b[0mconvert\u001b[0m\u001b[1;33m=\u001b[0m\u001b[1;32mFalse\u001b[0m\u001b[1;33m)\u001b[0m\u001b[1;33m\u001b[0m\u001b[0m\n\u001b[0;32m   2176\u001b[0m         \u001b[1;32melse\u001b[0m\u001b[1;33m:\u001b[0m\u001b[1;33m\u001b[0m\u001b[0m\n\u001b[1;32m-> 2177\u001b[1;33m             \u001b[0mindexer\u001b[0m \u001b[1;33m=\u001b[0m \u001b[0mself\u001b[0m\u001b[1;33m.\u001b[0m\u001b[0mloc\u001b[0m\u001b[1;33m.\u001b[0m\u001b[0m_convert_to_indexer\u001b[0m\u001b[1;33m(\u001b[0m\u001b[0mkey\u001b[0m\u001b[1;33m,\u001b[0m \u001b[0maxis\u001b[0m\u001b[1;33m=\u001b[0m\u001b[1;36m1\u001b[0m\u001b[1;33m)\u001b[0m\u001b[1;33m\u001b[0m\u001b[0m\n\u001b[0m\u001b[0;32m   2178\u001b[0m             \u001b[1;32mreturn\u001b[0m \u001b[0mself\u001b[0m\u001b[1;33m.\u001b[0m\u001b[0m_take\u001b[0m\u001b[1;33m(\u001b[0m\u001b[0mindexer\u001b[0m\u001b[1;33m,\u001b[0m \u001b[0maxis\u001b[0m\u001b[1;33m=\u001b[0m\u001b[1;36m1\u001b[0m\u001b[1;33m,\u001b[0m \u001b[0mconvert\u001b[0m\u001b[1;33m=\u001b[0m\u001b[1;32mTrue\u001b[0m\u001b[1;33m)\u001b[0m\u001b[1;33m\u001b[0m\u001b[0m\n\u001b[0;32m   2179\u001b[0m \u001b[1;33m\u001b[0m\u001b[0m\n",
      "\u001b[1;32m~\\Anaconda3\\lib\\site-packages\\pandas\\core\\indexing.py\u001b[0m in \u001b[0;36m_convert_to_indexer\u001b[1;34m(self, obj, axis, is_setter)\u001b[0m\n\u001b[0;32m   1267\u001b[0m                 \u001b[1;32mif\u001b[0m \u001b[0mmask\u001b[0m\u001b[1;33m.\u001b[0m\u001b[0many\u001b[0m\u001b[1;33m(\u001b[0m\u001b[1;33m)\u001b[0m\u001b[1;33m:\u001b[0m\u001b[1;33m\u001b[0m\u001b[0m\n\u001b[0;32m   1268\u001b[0m                     raise KeyError('{mask} not in index'\n\u001b[1;32m-> 1269\u001b[1;33m                                    .format(mask=objarr[mask]))\n\u001b[0m\u001b[0;32m   1270\u001b[0m \u001b[1;33m\u001b[0m\u001b[0m\n\u001b[0;32m   1271\u001b[0m                 \u001b[1;32mreturn\u001b[0m \u001b[0m_values_from_object\u001b[0m\u001b[1;33m(\u001b[0m\u001b[0mindexer\u001b[0m\u001b[1;33m)\u001b[0m\u001b[1;33m\u001b[0m\u001b[0m\n",
      "\u001b[1;31mKeyError\u001b[0m: \"['bedrooms' 'sqft_living15' 'grade' 'condition'] not in index\""
     ]
    }
   ],
   "source": [
    "# Apply linear regression to the price\n",
    "\n",
    "# We can use this regression test with our 4 columns.ie: DATE_DEC_FIRST, DECLARED, DATE_DIFF, EXT_FREQ\n",
    "\n",
    "from sklearn import linear_model\n",
    "\n",
    "# Create linear regression object\n",
    "model = linear_model.LinearRegression()\n",
    "\n",
    "columns = ['bedrooms', 'sqft_living15', 'grade', 'condition']\n",
    "\n",
    "# Train the model using the training sets\n",
    "model.fit(df[columns], df['price'])\n",
    "\n",
    "# Print the Coefficients\n",
    "print('Coefficients', np.round(model.coef_,2))\n",
    "print('Interception', round(model.intercept_,2))\n",
    "print('')\n",
    "for i, col in enumerate(columns):\n",
    "    print(col, round(model.coef_[i],1))\n",
    "\n",
    "print('')\n",
    "prediction = model.predict([[4, 3000, 10, 4]])\n",
    "print('Prediction', prediction.round(1)[0])"
   ]
  },
  {
   "cell_type": "code",
   "execution_count": null,
   "metadata": {},
   "outputs": [],
   "source": [
    "# Apply linear regression to the price considering the zipcode\n",
    "\n",
    "from sklearn import linear_model\n",
    "\n",
    "# Create linear regression object\n",
    "model = linear_model.LinearRegression()\n",
    "\n",
    "columns = ['bedrooms', 'sqft_living15', 'grade', 'condition']\n",
    "\n",
    "# Train the model using the training sets\n",
    "zipcode = 98000\n",
    "model.fit(df[df['zipcode']==zipcode][columns], df[df['zipcode']==zipcode]['price'])\n",
    "\n",
    "# Print the Coefficients\n",
    "print('Coefficients', np.round(model.coef_,2))\n",
    "print('Interception', round(model.intercept_,2))\n",
    "print('')\n",
    "for i, col in enumerate(columns):\n",
    "    print(col, round(model.coef_[i],1))\n",
    "\n",
    "print('')\n",
    "prediction = model.predict([[4, 3000, 10, 4]])\n",
    "print('Prediction', prediction.round(1)[0])"
   ]
  },
  {
   "cell_type": "markdown",
   "metadata": {},
   "source": [
    "### Numerical"
   ]
  },
  {
   "cell_type": "markdown",
   "metadata": {},
   "source": [
    "Based on the categorical values we generated above, we can then establish Min, Max, Mean values based on those Counts.  We can also generate Sums based on the number of visits by location or by time of year (based on declaration dates) to possibly gain insight on variables such as temperature or moving period (seasonal). "
   ]
  },
  {
   "cell_type": "markdown",
   "metadata": {
    "slideshow": {
     "slide_type": "notes"
    }
   },
   "source": [
    "## Multiple Variables"
   ]
  },
  {
   "cell_type": "markdown",
   "metadata": {},
   "source": [
    "Multi variable statistics can also be generated based on our dataset to try and establish trends and gain further insight. Examples of such include:\n",
    "\n",
    "-\tCounts on borough (NOM_ARROND) and neighborhood (NOM_QR) by date of declaration\n",
    "-\tNumber of days between DATE_INSP_VISPRE and DATE_DECLARATION. \n",
    "(Long waiting period can cause infestations to spread.)\n",
    "-\tNumber of days between DATE_DECLARATION - DATE_DEBUTTRAIT\n",
    "-\t(Long waiting period can cause infestations to spread.)\n"
   ]
  },
  {
   "cell_type": "markdown",
   "metadata": {
    "slideshow": {
     "slide_type": "notes"
    }
   },
   "source": [
    "# Business Persepective"
   ]
  },
  {
   "cell_type": "markdown",
   "metadata": {},
   "source": [
    "### Descriptive Data Analysis"
   ]
  },
  {
   "cell_type": "markdown",
   "metadata": {},
   "source": [
    "The City of Montreal bedbug infestation declarations dataset, which is available on the city website [Ref.], is analysed as part of this project.  The dataset contains a list of over 33,000 declarations of confirmed infestations located in the various boroughs.  Included in the dataset are 13 columns detailing the specific dates the infestations were declared along with unique declaration numbers per entry.  Each record also identifies the neighborhood and borough.  The specific locations are solely identified by coordinates to ensure the privacy of the residents.  The dataset also includes inspection dates along with the start and end periods for exterminations including the number of visits per household. \n",
    "\n",
    "The city clarifies some information concerning the data in the following manner.  “The declarations that are not associated exterminations have been removed from the dataset.”[Ref]  Therefore, the dataset pertains to households that have been treated.  Declarations linked to non-residential housing or out of the territory of the 19 boroughs have been removed. Finally, for confidentiality purposes, the closest intersection to the dwelling is reference rather the actual location.  Infestation reports since the 5th of July 2011 are included in the dataset.\n",
    "\n",
    "The city website indicates that the data has a low degree of reliability due to the concern that they were entered manually by a third party, and the data is not validated by the City of Montreal. [Ref]\n",
    "\n",
    "While analysing the data we found numerous entries, approximately 2,100, with a lack of inspection dates as well as missing start and end dates for the extermination along with missing values for number of visits required.  Since the city indicated that all declarations not associated with extermination declarations are removed from the dataset, we can conclude that a blank visits field is at minimum equal to 1 \n"
   ]
  },
  {
   "cell_type": "markdown",
   "metadata": {},
   "source": [
    "\n",
    "[Ref 1] http://donnees.ville.montreal.qc.ca/dataset/declarations-exterminations-punaises-de-lit \n",
    "\n",
    "As for missing dates, the gaps were filled, if required, by using the Declaration and Inspection dates as approximates to feed the Start and End dates.  \n",
    "\n",
    "Further investigation is required, in order to determine if several events, for the same location grouped under an intersection, are split into several reports. Specifically, the frequency of exterminations is capped at four for each report. [Ref 2]\n",
    "\n",
    "[Ref 2] http://donnees.ville.montreal.qc.ca/dataset/declarations-exterminations-punaises-de-lit/resource/81a05c27-2563-4cf5-9c40-ffcc053e05de?inner_span=True). \n",
    "\n",
    "If more than four events occurred for a report, it needs to be determined through analysis of the data whether the records were split.\n"
   ]
  },
  {
   "cell_type": "markdown",
   "metadata": {},
   "source": [
    "### Diagnostic Data Analysis"
   ]
  },
  {
   "cell_type": "markdown",
   "metadata": {},
   "source": [
    "Bedbugs can spread and infest an area in numerous ways.  Based on government reports we know infestations can spread by human contact (clothing), unsanitary environments, along with used furniture and mattresses to name a few.  This exercise in data mining has been undertaken to potentially uncover flash points, periods and/or locations that can possibly bring to light problematic scenarios that we can rectify and decrease, if not eliminate, future infestations."
   ]
  },
  {
   "cell_type": "markdown",
   "metadata": {},
   "source": [
    "1.\tNumber of days between Inspection/Declaration and Start-End of extermination.  \n",
    "(Given a lengthy waiting period we could have a potential opportunity for spreading)  \n",
    "\n",
    "2.\tIdentify the most problematic boroughs\n",
    "(What is the difference between worst and best ranked)\n",
    "\n",
    "3.\tIdentify the most problematic neighborhood\n",
    "(What is the difference between worst and best ranked)\n",
    "\n",
    "4.\tBased on 2 and 3, is the issue borough wide or at neighborhood level? \n",
    "(Management issue)\n",
    "\n",
    "5.\tWhen was the declaration made?\n",
    "(Is the problem based on a specific time of year? Heat? Moving period?)\n",
    "\n",
    "6.\tIs a problem more relevant to a particular block?\n",
    "(COORD_X x COORD_Y)\n",
    "\n",
    "7.\tNbr_Exterminations x COORD_X x COORD_Y x Nom_QR\n",
    "(Can the issue be subject to extermination mismanagement?) \n"
   ]
  },
  {
   "cell_type": "code",
   "execution_count": null,
   "metadata": {},
   "outputs": [],
   "source": []
  }
 ],
 "metadata": {
  "anaconda-cloud": {},
  "kernelspec": {
   "display_name": "Python 3",
   "language": "python",
   "name": "python3"
  },
  "language_info": {
   "codemirror_mode": {
    "name": "ipython",
    "version": 3
   },
   "file_extension": ".py",
   "mimetype": "text/x-python",
   "name": "python",
   "nbconvert_exporter": "python",
   "pygments_lexer": "ipython3",
   "version": "3.6.4"
  }
 },
 "nbformat": 4,
 "nbformat_minor": 1
}
